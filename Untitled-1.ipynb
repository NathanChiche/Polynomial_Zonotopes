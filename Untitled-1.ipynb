{
 "cells": [
  {
   "cell_type": "code",
   "execution_count": 3,
   "metadata": {},
   "outputs": [
    {
     "data": {
      "text/plain": [
       "mysetdiff (generic function with 1 method)"
      ]
     },
     "metadata": {},
     "output_type": "display_data"
    }
   ],
   "source": [
    "using Combinatorics\n",
    "\n",
    "function mysetdiff(y, x)\n",
    "    res = Vector{eltype(y)}(undef, length(y) - length(x))\n",
    "    i = 1\n",
    "    @inbounds for el in y\n",
    "        el ∈ x && continue\n",
    "        res[i] = el\n",
    "        i += 1\n",
    "    end\n",
    "    res\n",
    "end\n",
    "\n"
   ]
  },
  {
   "cell_type": "code",
   "execution_count": 6,
   "metadata": {},
   "outputs": [
    {
     "data": {
      "text/plain": [
       "quant_and_varsorders (generic function with 1 method)"
      ]
     },
     "metadata": {},
     "output_type": "display_data"
    }
   ],
   "source": [
    "function quant_and_varsorders(n1,n2)\n",
    "    indexbase=collect(1:n1)\n",
    "    nt=n1+n2\n",
    "    index=collect(n1+1:nt)\n",
    "    base=[\"forall\" for j in 1:n1]\n",
    "    res=[]\n",
    "    for i in 1:n2-1\n",
    "        q1=vcat(base,[\"forall\" for j in 1:i],[\"exists\" for j in 1:n2-i])\n",
    "        q2=vcat(base,[\"forall\" for j in 1:n2-i],[\"exists\" for j in 1:i])\n",
    "        @show(q1)\n",
    "        comb=collect(combinations(index,i))\n",
    "        @show(comb)\n",
    "        #diff=setdiff(index,comb)\n",
    "        \n",
    "        for c in comb\n",
    "            @show(c)\n",
    "            diff=setdiff(index,c)\n",
    "            @show(diff)\n",
    "            ordersq1=vcat(indexbase,c,diff)\n",
    "            ordersq2=vcat(indexbase,diff,c)\n",
    "            push!(res,[[q1,ordersq1],[q2,ordersq2]])\n",
    "        end\n",
    "    end\n",
    "    return res\n",
    "end"
   ]
  },
  {
   "cell_type": "code",
   "execution_count": 8,
   "metadata": {},
   "outputs": [
    {
     "name": "stdout",
     "output_type": "stream",
     "text": [
      "q1 = [\"forall\", \"forall\", \"forall\", \"exists\", \"exists\"]\n",
      "comb = [[3], [4], [5]]\n",
      "c = [3]\n",
      "diff = [4, 5]\n",
      "c = [4]\n",
      "diff = [3, 5]\n",
      "c = [5]\n",
      "diff = [3, 4]\n",
      "q1 = [\"forall\", \"forall\", \"forall\", \"forall\", \"exists\"]\n",
      "comb = [[3, 4], [3, 5], [4, 5]]\n",
      "c = [3, 4]\n",
      "diff = [5]\n",
      "c = [3, 5]\n",
      "diff = [4]\n",
      "c = [4, 5]\n",
      "diff = [3]\n"
     ]
    },
    {
     "data": {
      "text/plain": [
       "6-element Vector{Any}:\n",
       " Vector{Vector}[[[\"forall\", \"forall\", \"forall\", \"exists\", \"exists\"], [1, 2, 3, 4, 5]], [[\"forall\", \"forall\", \"forall\", \"forall\", \"exists\"], [1, 2, 4, 5, 3]]]\n",
       " Vector{Vector}[[[\"forall\", \"forall\", \"forall\", \"exists\", \"exists\"], [1, 2, 4, 3, 5]], [[\"forall\", \"forall\", \"forall\", \"forall\", \"exists\"], [1, 2, 3, 5, 4]]]\n",
       " Vector{Vector}[[[\"forall\", \"forall\", \"forall\", \"exists\", \"exists\"], [1, 2, 5, 3, 4]], [[\"forall\", \"forall\", \"forall\", \"forall\", \"exists\"], [1, 2, 3, 4, 5]]]\n",
       " Vector{Vector}[[[\"forall\", \"forall\", \"forall\", \"forall\", \"exists\"], [1, 2, 3, 4, 5]], [[\"forall\", \"forall\", \"forall\", \"exists\", \"exists\"], [1, 2, 5, 3, 4]]]\n",
       " Vector{Vector}[[[\"forall\", \"forall\", \"forall\", \"forall\", \"exists\"], [1, 2, 3, 5, 4]], [[\"forall\", \"forall\", \"forall\", \"exists\", \"exists\"], [1, 2, 4, 3, 5]]]\n",
       " Vector{Vector}[[[\"forall\", \"forall\", \"forall\", \"forall\", \"exists\"], [1, 2, 4, 5, 3]], [[\"forall\", \"forall\", \"forall\", \"exists\", \"exists\"], [1, 2, 3, 4, 5]]]"
      ]
     },
     "metadata": {},
     "output_type": "display_data"
    }
   ],
   "source": [
    "res=quant_and_varsorders(2,3)"
   ]
  },
  {
   "cell_type": "code",
   "execution_count": 23,
   "metadata": {},
   "outputs": [
    {
     "data": {
      "text/plain": [
       "2-element Vector{Vector{Int64}}:\n",
       " [1, 2, 3, 4, 5]\n",
       " [1, 2, 4, 5, 3]"
      ]
     },
     "metadata": {},
     "output_type": "display_data"
    }
   ],
   "source": [
    "collect(res[1][i][2] for i in 1:2)"
   ]
  },
  {
   "cell_type": "code",
   "execution_count": 21,
   "metadata": {},
   "outputs": [
    {
     "data": {
      "text/plain": [
       "2-element Vector{Vector}:\n",
       " [\"forall\", \"forall\", \"forall\", \"exists\", \"exists\"]\n",
       " [1, 2, 3, 4, 5]"
      ]
     },
     "metadata": {},
     "output_type": "display_data"
    }
   ],
   "source": [
    "collect(res[1][1][i] for i in 1:2)"
   ]
  },
  {
   "cell_type": "code",
   "execution_count": 12,
   "metadata": {},
   "outputs": [
    {
     "data": {
      "text/plain": [
       "5-element Vector{Int64}:\n",
       " 1\n",
       " 2\n",
       " 3\n",
       " 4\n",
       " 5"
      ]
     },
     "metadata": {},
     "output_type": "display_data"
    }
   ],
   "source": [
    "res[1][1][2]"
   ]
  },
  {
   "cell_type": "code",
   "execution_count": 13,
   "metadata": {},
   "outputs": [
    {
     "data": {
      "text/plain": [
       "6"
      ]
     },
     "metadata": {},
     "output_type": "display_data"
    }
   ],
   "source": [
    "length(res)"
   ]
  },
  {
   "cell_type": "code",
   "execution_count": 24,
   "metadata": {},
   "outputs": [
    {
     "data": {
      "text/latex": [
       "$$ \\begin{equation}\n",
       "\\left[\n",
       "\\begin{array}{c}\n",
       "\\frac{4 a x e^{\\frac{ - 2 \\left( x^{2} + y^{2} \\right)}{b^{2} \\left( 1 + \\left( \\frac{z}{c} \\right)^{2} \\right)}}}{\\left( 1 + \\left( \\frac{z}{c} \\right)^{2} \\right)^{2} b^{2}} \\\\\n",
       "\\frac{4 a y e^{\\frac{ - 2 \\left( x^{2} + y^{2} \\right)}{b^{2} \\left( 1 + \\left( \\frac{z}{c} \\right)^{2} \\right)}}}{\\left( 1 + \\left( \\frac{z}{c} \\right)^{2} \\right)^{2} b^{2}} \\\\\n",
       "a \\left( \\frac{ - 2 z \\frac{ - e^{\\frac{ - 2 \\left( x^{2} + y^{2} \\right)}{b^{2} \\left( 1 + \\left( \\frac{z}{c} \\right)^{2} \\right)}}}{\\left( 1 + \\left( \\frac{z}{c} \\right)^{2} \\right)^{2}}}{c^{2}} + \\frac{2 b^{2} z \\frac{ - 2 \\left( x^{2} + y^{2} \\right)}{\\left( 1 + \\left( \\frac{z}{c} \\right)^{2} \\right)^{2} b^{4}} e^{\\frac{ - 2 \\left( x^{2} + y^{2} \\right)}{b^{2} \\left( 1 + \\left( \\frac{z}{c} \\right)^{2} \\right)}}}{c^{2} \\left( 1 + \\left( \\frac{z}{c} \\right)^{2} \\right)} \\right) \\\\\n",
       "\\end{array}\n",
       "\\right]\n",
       "\\end{equation}\n",
       " $$"
      ],
      "text/plain": [
       "3-element Vector{Num}:\n",
       "      (4a*x*exp((-2(x^2 + y^2)) / ((b^2)*(1 + (z / c)^2)))) / ((b^2)*((1 + (z / c)^2)^2))\n",
       "      (4a*y*exp((-2(x^2 + y^2)) / ((b^2)*(1 + (z / c)^2)))) / ((b^2)*((1 + (z / c)^2)^2))\n",
       " a*((-2z*((-exp((-2(x^2 + y^2)) / ((b^2)*(1 + (z / c)^2)))) / ((1 + (z / c)^2)^2))) / (c^2) + (2z*(b^2)*((-2(x^2 + y^2)) / ((b^4)*((1 + (z / c)^2)^2)))*exp((-2(x^2 + y^2)) / ((b^2)*(1 + (z / c)^2)))) / ((c^2)*(1 + (z / c)^2)))"
      ]
     },
     "metadata": {},
     "output_type": "display_data"
    }
   ],
   "source": [
    "include(\"inclusiongeom_robustrange.jl\")"
   ]
  },
  {
   "cell_type": "code",
   "execution_count": 65,
   "metadata": {},
   "outputs": [
    {
     "data": {
      "text/plain": [
       "inclusion_geometrique (generic function with 1 method)"
      ]
     },
     "metadata": {},
     "output_type": "display_data"
    }
   ],
   "source": [
    "using Nemo\n",
    "using LazySets\n",
    "\n",
    "\n",
    "include(\"testinclusion_robrange.jl\")\n",
    "include(\"inclusiongeom_robustrange.jl\")\n",
    "include(\"conversions.jl\")\n",
    "include(\"joins.jl\")\n",
    "include(\"plotsample.jl\")\n",
    "include(\"polynomap.jl\")\n",
    "include(\"matlabmatrix.jl\")\n",
    "include(\"reduction.jl\")\n",
    "\n",
    "function inclusion_geometrique()\n",
    "    R=RealField()\n",
    "    S,(x)=PolynomialRing(R,2)\n",
    "    PZ1=get_SSPZ_from_polynomials([x[1]^2+x[1]*x[2],x[1]*x[2]])\n",
    "    PZ2=get_SSPZ_from_polynomials([2*x[1]+0.5,2*x[2]])\n",
    "    geometrical_inclusion(PZ1,PZ2,0.9)\n",
    "end\n",
    "\n"
   ]
  },
  {
   "cell_type": "code",
   "execution_count": 80,
   "metadata": {},
   "outputs": [
    {
     "data": {
      "text/plain": [
       "geometrical_inclusion (generic function with 1 method)"
      ]
     },
     "metadata": {},
     "output_type": "display_data"
    }
   ],
   "source": [
    "include(\"inclusiongeom_robustrange.jl\")"
   ]
  },
  {
   "cell_type": "code",
   "execution_count": 45,
   "metadata": {},
   "outputs": [
    {
     "data": {
      "text/plain": [
       "false"
      ]
     },
     "metadata": {},
     "output_type": "display_data"
    }
   ],
   "source": []
  },
  {
   "cell_type": "code",
   "execution_count": 82,
   "metadata": {},
   "outputs": [
    {
     "ename": "MethodError",
     "evalue": "MethodError: no method matching similar(::Type{Vector{Num}}, ::Tuple{UnitRange{Int64}})\n\nClosest candidates are:\n  similar(!Matched::AbstractArray{T}, ::Tuple) where T\n   @ Base abstractarray.jl:836\n  similar(::Type{T}, !Matched::Union{Integer, AbstractUnitRange}...) where T<:AbstractArray\n   @ Base abstractarray.jl:880\n  similar(::Type{T}, !Matched::Tuple{Vararg{Int64, N}} where N) where T<:AbstractArray\n   @ Base abstractarray.jl:882\n  ...\n",
     "output_type": "error",
     "traceback": [
      "MethodError: no method matching similar(::Type{Vector{Num}}, ::Tuple{UnitRange{Int64}})\n",
      "\n",
      "Closest candidates are:\n",
      "  similar(!Matched::AbstractArray{T}, ::Tuple) where T\n",
      "   @ Base abstractarray.jl:836\n",
      "  similar(::Type{T}, !Matched::Union{Integer, AbstractUnitRange}...) where T<:AbstractArray\n",
      "   @ Base abstractarray.jl:880\n",
      "  similar(::Type{T}, !Matched::Tuple{Vararg{Int64, N}} where N) where T<:AbstractArray\n",
      "   @ Base abstractarray.jl:882\n",
      "  ...\n",
      "\n",
      "\n",
      "Stacktrace:\n",
      " [1] _array_for(#unused#::Type{Num}, #unused#::Base.HasShape{1}, axs::Tuple{UnitRange{Int64}})\n",
      "   @ Base ./array.jl:671\n",
      " [2] _array_for(#unused#::Type{Num}, itr::Symbolics.Arr{Num, 1}, isz::Base.HasShape{1})\n",
      "   @ Base ./array.jl:674\n",
      " [3] gradient(O::Num, vars::Symbolics.Arr{Num, 1}; simplify::Bool)\n",
      "   @ Symbolics ~/.julia/packages/Symbolics/BQlmn/src/diff.jl:435\n",
      " [4] gradient(O::Num, vars::Symbolics.Arr{Num, 1})\n",
      "   @ Symbolics ~/.julia/packages/Symbolics/BQlmn/src/diff.jl:434\n",
      " [5] top-level scope\n",
      "   @ ~/Documents/julia/polynomial_zonotopes/Polynomial_Zonotopes/jl_notebook_cell_df34fa98e69747e1a8f8a730347b8e2f_X20sZmlsZQ==.jl:7"
     ]
    }
   ],
   "source": [
    "using Symbolics\n",
    "\n",
    "@variables x[1:3]\n",
    "\n",
    "fun = x[1]\n",
    "\n",
    "gradfunx = Symbolics.gradient(fun, x)  # does not work"
   ]
  },
  {
   "cell_type": "code",
   "execution_count": 181,
   "metadata": {},
   "outputs": [
    {
     "data": {
      "text/latex": [
       "$$ \\begin{equation}\n",
       "\\left[\n",
       "\\begin{array}{c}\n",
       "2.1 x_1 \\\\\n",
       "2 x_3 \\\\\n",
       "2 x_2 \\\\\n",
       "\\end{array}\n",
       "\\right]\n",
       "\\end{equation}\n",
       " $$"
      ],
      "text/plain": [
       "3-element Vector{Num}:\n",
       "     2.1x[1]\n",
       " 2x[3]\n",
       " 2x[2]"
      ]
     },
     "metadata": {},
     "output_type": "display_data"
    }
   ],
   "source": [
    "\n",
    "\n",
    "@variables x[1:3]\n",
    "\n",
    "fun = 1.05*x[1]^2+2*x[2]*x[3]\n",
    "y=[x...]\n",
    "\n",
    "gradfuny = Symbolics.gradient(fun, y)  # does work"
   ]
  },
  {
   "cell_type": "code",
   "execution_count": 89,
   "metadata": {},
   "outputs": [
    {
     "data": {
      "text/plain": [
       "3-element Vector{IntervalArithmetic.Interval{Float64}}:\n",
       " [-1, 1]\n",
       " [-1, 1]\n",
       " [-1, 1]"
      ]
     },
     "metadata": {},
     "output_type": "display_data"
    }
   ],
   "source": [
    "intervinte=interval(-1..1)\n",
    "input=[inte for i in 1:3]"
   ]
  },
  {
   "cell_type": "code",
   "execution_count": 182,
   "metadata": {},
   "outputs": [
    {
     "data": {
      "text/plain": [
       "RuntimeGeneratedFunction(#=in Symbolics=#, #=using Symbolics=#, :((ˍ₋arg1,)->begin\n",
       "          #= /Users/nathanchiche/.julia/packages/SymbolicUtils/NJ0fs/src/code.jl:373 =#\n",
       "          #= /Users/nathanchiche/.julia/packages/SymbolicUtils/NJ0fs/src/code.jl:374 =#\n",
       "          #= /Users/nathanchiche/.julia/packages/SymbolicUtils/NJ0fs/src/code.jl:375 =#\n",
       "          begin\n",
       "              begin\n",
       "                  #= /Users/nathanchiche/.julia/packages/SymbolicUtils/NJ0fs/src/code.jl:468 =#\n",
       "                  (SymbolicUtils.Code.create_array)(typeof(ˍ₋arg1), nothing, Val{1}(), Val{(3,)}(), (*)(2.1, ˍ₋arg1[1]), (*)(2, ˍ₋arg1[3]), (*)(2, ˍ₋arg1[2]))\n",
       "              end\n",
       "          end\n",
       "      end))"
      ]
     },
     "metadata": {},
     "output_type": "display_data"
    }
   ],
   "source": [
    "mygradfuny=build_function(gradfuny,[y[j] for j in 1:3],expression=Val{false})[1]\n"
   ]
  },
  {
   "cell_type": "code",
   "execution_count": 94,
   "metadata": {},
   "outputs": [
    {
     "data": {
      "text/latex": [
       "$$ \\begin{equation}\n",
       "\\left[\n",
       "\\begin{array}{ccc}\n",
       "2.1 x_1 & 2 x_3 & 2 x_2 \\\\\n",
       "4.2 x_1 & 4 x_3 & 4 x_2 \\\\\n",
       "\\end{array}\n",
       "\\right]\n",
       "\\end{equation}\n",
       " $$"
      ],
      "text/plain": [
       "2×3 Matrix{Num}:\n",
       " 2.1x[1]  2x[3]  2x[2]\n",
       " 4.2x[1]  4x[3]  4x[2]"
      ]
     },
     "metadata": {},
     "output_type": "display_data"
    }
   ],
   "source": [
    "am=[fun,2*fun]\n",
    "jacfun=Symbolics.jacobian(am,x)"
   ]
  },
  {
   "cell_type": "code",
   "execution_count": 184,
   "metadata": {},
   "outputs": [
    {
     "ename": "BoundsError",
     "evalue": "BoundsError: attempt to access 2-element Vector{Any} at index [3]",
     "output_type": "error",
     "traceback": [
      "BoundsError: attempt to access 2-element Vector{Any} at index [3]\n",
      "\n",
      "Stacktrace:\n",
      " [1] getindex\n",
      "   @ ./essentials.jl:13 [inlined]\n",
      " [2] geometricalinclusion_polynomial_zonotopes_to_function(fpzonotope::SimpleSparsePolynomialZonotope{Float64, Vector{Float64}, Matrix{Float64}, Matrix{Int64}}, pzonotope::SimpleSparsePolynomialZonotope{Float64, Vector{Float64}, Matrix{Float64}, Matrix{Int64}})\n",
      "   @ Main ~/Documents/julia/polynomial_zonotopes/Polynomial_Zonotopes/polzono_to_symbo.jl:103\n",
      " [3] top-level scope\n",
      "   @ ~/Documents/julia/polynomial_zonotopes/Polynomial_Zonotopes/jl_notebook_cell_df34fa98e69747e1a8f8a730347b8e2f_X30sZmlsZQ==.jl:1"
     ]
    }
   ],
   "source": [
    "geometricalinclusion_polynomial_zonotopes_to_function(fP,P)"
   ]
  },
  {
   "cell_type": "code",
   "execution_count": 175,
   "metadata": {},
   "outputs": [
    {
     "data": {
      "text/plain": [
       "28-element Vector{Int64}:\n",
       " 0\n",
       " 1\n",
       " 2\n",
       " 3\n",
       " 0\n",
       " 0\n",
       " 0\n",
       " 0\n",
       " 0\n",
       " 0\n",
       " ⋮\n",
       " 0\n",
       " 0\n",
       " 0\n",
       " 0\n",
       " 0\n",
       " 0\n",
       " 0\n",
       " 0\n",
       " 0"
      ]
     },
     "metadata": {},
     "output_type": "display_data"
    }
   ],
   "source": [
    "l=[1,2,3,4,1,2,3,4,1,2,3,4,1,2,3,4,1,2,3,4,1,2,3,4,1,2,3,4]\n",
    "l-[1,1,1,1,1,2,3,4,1,2,3,4,1,2,3,4,1,2,3,4,1,2,3,4,1,2,3,4]"
   ]
  },
  {
   "cell_type": "code",
   "execution_count": 168,
   "metadata": {},
   "outputs": [],
   "source": [
    "using BenchmarkTools"
   ]
  },
  {
   "cell_type": "code",
   "execution_count": 176,
   "metadata": {},
   "outputs": [
    {
     "data": {
      "text/plain": [
       "functac (generic function with 1 method)"
      ]
     },
     "metadata": {},
     "output_type": "display_data"
    }
   ],
   "source": [
    "function fucti(b)\n",
    "    b=b-[1,1,1,1,1,2,3,4,1,2,3,4,1,2,3,4,1,2,3,4,1,2,3,4,1,2,3,4]\n",
    "    return b\n",
    "end\n",
    "\n",
    "function functac(b)\n",
    "    b .-=[1,1,1,1,1,2,3,4,1,2,3,4,1,2,3,4,1,2,3,4,1,2,3,4,1,2,3,4]\n",
    "end"
   ]
  },
  {
   "cell_type": "code",
   "execution_count": 177,
   "metadata": {},
   "outputs": [
    {
     "data": {
      "text/plain": [
       "BenchmarkTools.Trial: 10000 samples with 950 evaluations.\n",
       " Range \u001b[90m(\u001b[39m\u001b[36m\u001b[1mmin\u001b[22m\u001b[39m … \u001b[35mmax\u001b[39m\u001b[90m):  \u001b[39m\u001b[36m\u001b[1m 99.737 ns\u001b[22m\u001b[39m … \u001b[35m  3.790 μs\u001b[39m  \u001b[90m┊\u001b[39m GC \u001b[90m(\u001b[39mmin … max\u001b[90m): \u001b[39m 0.00% … 96.05%\n",
       " Time  \u001b[90m(\u001b[39m\u001b[34m\u001b[1mmedian\u001b[22m\u001b[39m\u001b[90m):     \u001b[39m\u001b[34m\u001b[1m103.201 ns               \u001b[22m\u001b[39m\u001b[90m┊\u001b[39m GC \u001b[90m(\u001b[39mmedian\u001b[90m):    \u001b[39m 0.00%\n",
       " Time  \u001b[90m(\u001b[39m\u001b[32m\u001b[1mmean\u001b[22m\u001b[39m ± \u001b[32mσ\u001b[39m\u001b[90m):   \u001b[39m\u001b[32m\u001b[1m142.723 ns\u001b[22m\u001b[39m ± \u001b[32m339.722 ns\u001b[39m  \u001b[90m┊\u001b[39m GC \u001b[90m(\u001b[39mmean ± σ\u001b[90m):  \u001b[39m25.73% ± 10.35%\n",
       "\n",
       "  \u001b[34m█\u001b[39m\u001b[32m \u001b[39m\u001b[39m \u001b[39m \u001b[39m \u001b[39m \u001b[39m \u001b[39m \u001b[39m \u001b[39m \u001b[39m \u001b[39m \u001b[39m \u001b[39m \u001b[39m \u001b[39m \u001b[39m \u001b[39m \u001b[39m \u001b[39m \u001b[39m \u001b[39m \u001b[39m \u001b[39m \u001b[39m \u001b[39m \u001b[39m \u001b[39m \u001b[39m \u001b[39m \u001b[39m \u001b[39m \u001b[39m \u001b[39m \u001b[39m \u001b[39m \u001b[39m \u001b[39m \u001b[39m \u001b[39m \u001b[39m \u001b[39m \u001b[39m \u001b[39m \u001b[39m \u001b[39m \u001b[39m \u001b[39m \u001b[39m \u001b[39m \u001b[39m \u001b[39m \u001b[39m \u001b[39m \u001b[39m \u001b[39m \u001b[39m \u001b[39m \u001b[39m \u001b[39m \u001b[39m \u001b[39m \u001b[39m▁\n",
       "  \u001b[34m█\u001b[39m\u001b[32m▇\u001b[39m\u001b[39m▃\u001b[39m▁\u001b[39m▁\u001b[39m▁\u001b[39m▁\u001b[39m▁\u001b[39m▁\u001b[39m▁\u001b[39m▁\u001b[39m▁\u001b[39m▁\u001b[39m▁\u001b[39m▁\u001b[39m▁\u001b[39m▁\u001b[39m▁\u001b[39m▁\u001b[39m▁\u001b[39m▁\u001b[39m▁\u001b[39m▁\u001b[39m▁\u001b[39m▁\u001b[39m▁\u001b[39m▁\u001b[39m▁\u001b[39m▁\u001b[39m▁\u001b[39m▁\u001b[39m▁\u001b[39m▁\u001b[39m▁\u001b[39m▁\u001b[39m▁\u001b[39m▁\u001b[39m▁\u001b[39m▁\u001b[39m▁\u001b[39m▁\u001b[39m▁\u001b[39m▁\u001b[39m▁\u001b[39m▁\u001b[39m▁\u001b[39m▁\u001b[39m▁\u001b[39m▁\u001b[39m▁\u001b[39m▁\u001b[39m▁\u001b[39m▁\u001b[39m▁\u001b[39m▁\u001b[39m▁\u001b[39m▁\u001b[39m▁\u001b[39m▄\u001b[39m▆\u001b[39m▅\u001b[39m \u001b[39m█\n",
       "  99.7 ns\u001b[90m       \u001b[39m\u001b[90mHistogram: \u001b[39m\u001b[90m\u001b[1mlog(\u001b[22m\u001b[39m\u001b[90mfrequency\u001b[39m\u001b[90m\u001b[1m)\u001b[22m\u001b[39m\u001b[90m by time\u001b[39m       3.07 μs \u001b[0m\u001b[1m<\u001b[22m\n",
       "\n",
       " Memory estimate\u001b[90m: \u001b[39m\u001b[33m576 bytes\u001b[39m, allocs estimate\u001b[90m: \u001b[39m\u001b[33m2\u001b[39m."
      ]
     },
     "metadata": {},
     "output_type": "display_data"
    }
   ],
   "source": [
    "@benchmark fucti(l)\n"
   ]
  },
  {
   "cell_type": "code",
   "execution_count": 178,
   "metadata": {},
   "outputs": [
    {
     "data": {
      "text/plain": [
       "BenchmarkTools.Trial: 10000 samples with 975 evaluations.\n",
       " Range \u001b[90m(\u001b[39m\u001b[36m\u001b[1mmin\u001b[22m\u001b[39m … \u001b[35mmax\u001b[39m\u001b[90m):  \u001b[39m\u001b[36m\u001b[1m70.128 ns\u001b[22m\u001b[39m … \u001b[35m  3.766 μs\u001b[39m  \u001b[90m┊\u001b[39m GC \u001b[90m(\u001b[39mmin … max\u001b[90m): \u001b[39m 0.00% … 97.22%\n",
       " Time  \u001b[90m(\u001b[39m\u001b[34m\u001b[1mmedian\u001b[22m\u001b[39m\u001b[90m):     \u001b[39m\u001b[34m\u001b[1m71.624 ns               \u001b[22m\u001b[39m\u001b[90m┊\u001b[39m GC \u001b[90m(\u001b[39mmedian\u001b[90m):    \u001b[39m 0.00%\n",
       " Time  \u001b[90m(\u001b[39m\u001b[32m\u001b[1mmean\u001b[22m\u001b[39m ± \u001b[32mσ\u001b[39m\u001b[90m):   \u001b[39m\u001b[32m\u001b[1m93.082 ns\u001b[22m\u001b[39m ± \u001b[32m247.825 ns\u001b[39m  \u001b[90m┊\u001b[39m GC \u001b[90m(\u001b[39mmean ± σ\u001b[90m):  \u001b[39m20.64% ±  7.55%\n",
       "\n",
       "  \u001b[39m▅\u001b[39m█\u001b[39m█\u001b[34m▇\u001b[39m\u001b[39m▆\u001b[39m▄\u001b[39m▄\u001b[39m▃\u001b[39m▂\u001b[39m▂\u001b[39m▂\u001b[39m▂\u001b[39m▂\u001b[39m▂\u001b[39m▁\u001b[39m \u001b[39m \u001b[39m \u001b[39m \u001b[39m \u001b[39m▁\u001b[39m▂\u001b[39m▃\u001b[39m▄\u001b[39m▃\u001b[39m▂\u001b[39m▁\u001b[39m \u001b[39m \u001b[39m \u001b[39m \u001b[39m \u001b[39m▁\u001b[39m \u001b[39m \u001b[39m \u001b[39m \u001b[39m \u001b[39m \u001b[39m \u001b[39m \u001b[39m \u001b[39m \u001b[39m \u001b[39m \u001b[39m \u001b[39m \u001b[39m \u001b[32m \u001b[39m\u001b[39m \u001b[39m \u001b[39m \u001b[39m \u001b[39m \u001b[39m \u001b[39m \u001b[39m \u001b[39m \u001b[39m \u001b[39m \u001b[39m \u001b[39m▂\n",
       "  \u001b[39m█\u001b[39m█\u001b[39m█\u001b[34m█\u001b[39m\u001b[39m█\u001b[39m█\u001b[39m█\u001b[39m█\u001b[39m█\u001b[39m█\u001b[39m█\u001b[39m█\u001b[39m█\u001b[39m█\u001b[39m█\u001b[39m█\u001b[39m▇\u001b[39m▇\u001b[39m▇\u001b[39m█\u001b[39m█\u001b[39m█\u001b[39m█\u001b[39m█\u001b[39m█\u001b[39m█\u001b[39m█\u001b[39m█\u001b[39m▇\u001b[39m▇\u001b[39m▆\u001b[39m▇\u001b[39m█\u001b[39m█\u001b[39m█\u001b[39m█\u001b[39m▇\u001b[39m▆\u001b[39m▆\u001b[39m▆\u001b[39m▅\u001b[39m▅\u001b[39m▅\u001b[39m▅\u001b[39m▆\u001b[39m▄\u001b[39m▅\u001b[39m▅\u001b[32m▅\u001b[39m\u001b[39m▂\u001b[39m▃\u001b[39m▄\u001b[39m▅\u001b[39m▄\u001b[39m▄\u001b[39m▃\u001b[39m▅\u001b[39m▅\u001b[39m▅\u001b[39m▅\u001b[39m \u001b[39m█\n",
       "  70.1 ns\u001b[90m       \u001b[39m\u001b[90mHistogram: \u001b[39m\u001b[90m\u001b[1mlog(\u001b[22m\u001b[39m\u001b[90mfrequency\u001b[39m\u001b[90m\u001b[1m)\u001b[22m\u001b[39m\u001b[90m by time\u001b[39m      98.5 ns \u001b[0m\u001b[1m<\u001b[22m\n",
       "\n",
       " Memory estimate\u001b[90m: \u001b[39m\u001b[33m288 bytes\u001b[39m, allocs estimate\u001b[90m: \u001b[39m\u001b[33m1\u001b[39m."
      ]
     },
     "metadata": {},
     "output_type": "display_data"
    }
   ],
   "source": [
    "@benchmark functac(l)"
   ]
  },
  {
   "cell_type": "code",
   "execution_count": 309,
   "metadata": {},
   "outputs": [
    {
     "data": {
      "text/plain": [
       "2-element Vector{Any}:\n",
       " Num[2var[1] + 3(var[1]^2) - 1, 0, 1, 1, 0, -1]\n",
       " Num[0, 2var[2] - 1, 1, 0, -1, 0]"
      ]
     },
     "metadata": {},
     "output_type": "display_data"
    }
   ],
   "source": [
    "R=RealField()\n",
    "S,(x)=PolynomialRing(R,4)\n",
    "PZ=get_SSPZ_from_polynomials([x[1]+x[3],x[2]+x[4]])\n",
    "FPZ=get_SSPZ_from_polynomials([0.8*(x[1]+x[3]),0.9*(x[2]+x[4])])\n",
    "a,b,c,d,e=functionalinclusion_polynomial_zonotopes_to_function(fP,P)\n",
    "e\n"
   ]
  },
  {
   "cell_type": "code",
   "execution_count": 298,
   "metadata": {},
   "outputs": [
    {
     "data": {
      "text/plain": [
       "(Any[RuntimeGeneratedFunctions.RuntimeGeneratedFunction{(:ˍ₋arg1,), Symbolics.var\"#_RGF_ModTag\", Symbolics.var\"#_RGF_ModTag\", (0xe6c17402, 0xb1463d7e, 0xc376d9ee, 0xa94386b4, 0xdee1cbcd), Expr}(quote\n",
       "    \u001b[90m#= /Users/nathanchiche/.julia/packages/SymbolicUtils/NJ0fs/src/code.jl:373 =#\u001b[39m\n",
       "    \u001b[90m#= /Users/nathanchiche/.julia/packages/SymbolicUtils/NJ0fs/src/code.jl:374 =#\u001b[39m\n",
       "    \u001b[90m#= /Users/nathanchiche/.julia/packages/SymbolicUtils/NJ0fs/src/code.jl:375 =#\u001b[39m\n",
       "    begin\n",
       "        (+)((+)((+)((+)((+)((*)(-1, ˍ₋arg1[1]), (^)(ˍ₋arg1[1], 2)), (^)(ˍ₋arg1[1], 3)), (*)(-1, ˍ₋arg1[6])), ˍ₋arg1[3]), ˍ₋arg1[4])\n",
       "    end\n",
       "end), RuntimeGeneratedFunctions.RuntimeGeneratedFunction{(:ˍ₋arg1,), Symbolics.var\"#_RGF_ModTag\", Symbolics.var\"#_RGF_ModTag\", (0x784a9b13, 0xdc4f42c3, 0x9f0fe936, 0xf862696c, 0x96d6be69), Expr}(quote\n",
       "    \u001b[90m#= /Users/nathanchiche/.julia/packages/SymbolicUtils/NJ0fs/src/code.jl:373 =#\u001b[39m\n",
       "    \u001b[90m#= /Users/nathanchiche/.julia/packages/SymbolicUtils/NJ0fs/src/code.jl:374 =#\u001b[39m\n",
       "    \u001b[90m#= /Users/nathanchiche/.julia/packages/SymbolicUtils/NJ0fs/src/code.jl:375 =#\u001b[39m\n",
       "    begin\n",
       "        (+)((+)((+)((*)(-1, ˍ₋arg1[2]), (^)(ˍ₋arg1[2], 2)), (*)(-1, ˍ₋arg1[5])), ˍ₋arg1[3])\n",
       "    end\n",
       "end)], Any[RuntimeGeneratedFunctions.RuntimeGeneratedFunction{(:ˍ₋arg1,), Symbolics.var\"#_RGF_ModTag\", Symbolics.var\"#_RGF_ModTag\", (0xa2769d5d, 0x312ea716, 0xc32be237, 0xaab7cfea, 0x4ac78e7d), Expr}(quote\n",
       "    \u001b[90m#= /Users/nathanchiche/.julia/packages/SymbolicUtils/NJ0fs/src/code.jl:373 =#\u001b[39m\n",
       "    \u001b[90m#= /Users/nathanchiche/.julia/packages/SymbolicUtils/NJ0fs/src/code.jl:374 =#\u001b[39m\n",
       "    \u001b[90m#= /Users/nathanchiche/.julia/packages/SymbolicUtils/NJ0fs/src/code.jl:375 =#\u001b[39m\n",
       "    begin\n",
       "        begin\n",
       "            \u001b[90m#= /Users/nathanchiche/.julia/packages/SymbolicUtils/NJ0fs/src/code.jl:468 =#\u001b[39m\n",
       "            (SymbolicUtils.Code.create_array)(typeof(ˍ₋arg1), nothing, Val{1}(), Val{(6,)}(), (+)((+)(-1, (*)(2, ˍ₋arg1[1])), (*)(3, (^)(ˍ₋arg1[1], 2))), 0, 1, 1, 0, -1)\n",
       "        end\n",
       "    end\n",
       "end), RuntimeGeneratedFunctions.RuntimeGeneratedFunction{(:ˍ₋arg1,), Symbolics.var\"#_RGF_ModTag\", Symbolics.var\"#_RGF_ModTag\", (0xfe655e11, 0x3d6157f2, 0x1ddbed3a, 0x7abdfac5, 0x5547c898), Expr}(quote\n",
       "    \u001b[90m#= /Users/nathanchiche/.julia/packages/SymbolicUtils/NJ0fs/src/code.jl:373 =#\u001b[39m\n",
       "    \u001b[90m#= /Users/nathanchiche/.julia/packages/SymbolicUtils/NJ0fs/src/code.jl:374 =#\u001b[39m\n",
       "    \u001b[90m#= /Users/nathanchiche/.julia/packages/SymbolicUtils/NJ0fs/src/code.jl:375 =#\u001b[39m\n",
       "    begin\n",
       "        begin\n",
       "            \u001b[90m#= /Users/nathanchiche/.julia/packages/SymbolicUtils/NJ0fs/src/code.jl:468 =#\u001b[39m\n",
       "            (SymbolicUtils.Code.create_array)(typeof(ˍ₋arg1), nothing, Val{1}(), Val{(6,)}(), 0, (+)(-1, (*)(2, ˍ₋arg1[2])), 1, 0, -1, 0)\n",
       "        end\n",
       "    end\n",
       "end)], [\"forall\", \"forall\", \"forall\", \"forall\", \"exists\", \"exists\"], 6, Any[Num[2var[1] + 3(var[1]^2) - 1, 0, 1, 1, 0, -1], Num[0, 2var[2] - 1, 1, 0, -1, 0]])"
      ]
     },
     "metadata": {},
     "output_type": "display_data"
    }
   ],
   "source": [
    "a,b,c,d,e=functionalinclusion_polynomial_zonotopes_to_function(fP,P)\n"
   ]
  },
  {
   "cell_type": "code",
   "execution_count": 306,
   "metadata": {},
   "outputs": [
    {
     "data": {
      "text/plain": [
       "2-element Vector{Any}:\n",
       " Num[2var[1] + 3(var[1]^2) - 1, 0, 1, 1, 0, -1]\n",
       " Num[0, 2var[2] - 1, 1, 0, -1, 0]"
      ]
     },
     "metadata": {},
     "output_type": "display_data"
    }
   ],
   "source": [
    "e\n"
   ]
  },
  {
   "cell_type": "code",
   "execution_count": 307,
   "metadata": {},
   "outputs": [
    {
     "data": {
      "text/plain": [
       "2-element Vector{Any}:\n",
       " Num[2var[1] + 3(var[1]^2) - 1, 0, 1, 1, 0, -1]\n",
       " Num[0, 2var[2] - 1, 1, 0, -1, 0]"
      ]
     },
     "metadata": {},
     "output_type": "display_data"
    }
   ],
   "source": [
    "include(\"polzono_to_symbo.jl\")\n",
    "R=RealField()\n",
    "S,(x,y,s,t)=PolynomialRing(R,[\"x\",\"y\",\"s\",\"t\"])\n",
    "\n",
    "P=get_SSPZ_from_polynomials([x+t,y+s])\n",
    "fP=get_SSPZ_from_polynomials([x^2+x^3+s+t,y^2+s])\n",
    "a,b,c,d,e=functionalinclusion_polynomial_zonotopes_to_function(fP,P)\n",
    "e"
   ]
  },
  {
   "cell_type": "code",
   "execution_count": 281,
   "metadata": {},
   "outputs": [
    {
     "data": {
      "text/plain": [
       "8-element Vector{IntervalArithmetic.Interval{Float64}}:\n",
       " [-1, 1]\n",
       " [-1, 1]\n",
       " [-1, 1]\n",
       " [-1, 1]\n",
       " [-1, 1]\n",
       " [-1, 1]\n",
       " [-1, 1]\n",
       " [-1, 1]"
      ]
     },
     "metadata": {},
     "output_type": "display_data"
    }
   ],
   "source": [
    "intervinte=interval(-1..1)\n",
    "input=[inte for i in 1:8]"
   ]
  },
  {
   "cell_type": "code",
   "execution_count": 286,
   "metadata": {},
   "outputs": [
    {
     "data": {
      "text/plain": [
       "8-element Vector{IntervalArithmetic.Interval{Float64}}:\n",
       " [-2, 5]\n",
       "  [0, 0]\n",
       "  [1, 1]\n",
       "  [1, 1]\n",
       "  [1, 1]\n",
       "  [0, 0]\n",
       "  [0, 0]\n",
       "  [1, 1]"
      ]
     },
     "metadata": {},
     "output_type": "display_data"
    }
   ],
   "source": [
    "b[1](input2)"
   ]
  },
  {
   "cell_type": "code",
   "execution_count": 257,
   "metadata": {},
   "outputs": [
    {
     "data": {
      "text/plain": [
       "(Any[RuntimeGeneratedFunctions.RuntimeGeneratedFunction{(:ˍ₋arg1,), Symbolics.var\"#_RGF_ModTag\", Symbolics.var\"#_RGF_ModTag\", (0xe6c17402, 0xb1463d7e, 0xc376d9ee, 0xa94386b4, 0xdee1cbcd), Expr}(quote\n",
       "    \u001b[90m#= /Users/nathanchiche/.julia/packages/SymbolicUtils/NJ0fs/src/code.jl:373 =#\u001b[39m\n",
       "    \u001b[90m#= /Users/nathanchiche/.julia/packages/SymbolicUtils/NJ0fs/src/code.jl:374 =#\u001b[39m\n",
       "    \u001b[90m#= /Users/nathanchiche/.julia/packages/SymbolicUtils/NJ0fs/src/code.jl:375 =#\u001b[39m\n",
       "    begin\n",
       "        (+)((+)((+)((+)((+)((*)(-1, ˍ₋arg1[1]), (^)(ˍ₋arg1[1], 2)), (^)(ˍ₋arg1[1], 3)), (*)(-1, ˍ₋arg1[6])), ˍ₋arg1[3]), ˍ₋arg1[4])\n",
       "    end\n",
       "end), RuntimeGeneratedFunctions.RuntimeGeneratedFunction{(:ˍ₋arg1,), Symbolics.var\"#_RGF_ModTag\", Symbolics.var\"#_RGF_ModTag\", (0x784a9b13, 0xdc4f42c3, 0x9f0fe936, 0xf862696c, 0x96d6be69), Expr}(quote\n",
       "    \u001b[90m#= /Users/nathanchiche/.julia/packages/SymbolicUtils/NJ0fs/src/code.jl:373 =#\u001b[39m\n",
       "    \u001b[90m#= /Users/nathanchiche/.julia/packages/SymbolicUtils/NJ0fs/src/code.jl:374 =#\u001b[39m\n",
       "    \u001b[90m#= /Users/nathanchiche/.julia/packages/SymbolicUtils/NJ0fs/src/code.jl:375 =#\u001b[39m\n",
       "    begin\n",
       "        (+)((+)((+)((*)(-1, ˍ₋arg1[2]), (^)(ˍ₋arg1[2], 2)), (*)(-1, ˍ₋arg1[5])), ˍ₋arg1[3])\n",
       "    end\n",
       "end)], Any[RuntimeGeneratedFunctions.RuntimeGeneratedFunction{(:ˍ₋arg1,), Symbolics.var\"#_RGF_ModTag\", Symbolics.var\"#_RGF_ModTag\", (0xa2769d5d, 0x312ea716, 0xc32be237, 0xaab7cfea, 0x4ac78e7d), Expr}(quote\n",
       "    \u001b[90m#= /Users/nathanchiche/.julia/packages/SymbolicUtils/NJ0fs/src/code.jl:373 =#\u001b[39m\n",
       "    \u001b[90m#= /Users/nathanchiche/.julia/packages/SymbolicUtils/NJ0fs/src/code.jl:374 =#\u001b[39m\n",
       "    \u001b[90m#= /Users/nathanchiche/.julia/packages/SymbolicUtils/NJ0fs/src/code.jl:375 =#\u001b[39m\n",
       "    begin\n",
       "        begin\n",
       "            \u001b[90m#= /Users/nathanchiche/.julia/packages/SymbolicUtils/NJ0fs/src/code.jl:468 =#\u001b[39m\n",
       "            (SymbolicUtils.Code.create_array)(typeof(ˍ₋arg1), nothing, Val{1}(), Val{(6,)}(), (+)((+)(-1, (*)(2, ˍ₋arg1[1])), (*)(3, (^)(ˍ₋arg1[1], 2))), 0, 1, 1, 0, -1)\n",
       "        end\n",
       "    end\n",
       "end), RuntimeGeneratedFunctions.RuntimeGeneratedFunction{(:ˍ₋arg1,), Symbolics.var\"#_RGF_ModTag\", Symbolics.var\"#_RGF_ModTag\", (0xfe655e11, 0x3d6157f2, 0x1ddbed3a, 0x7abdfac5, 0x5547c898), Expr}(quote\n",
       "    \u001b[90m#= /Users/nathanchiche/.julia/packages/SymbolicUtils/NJ0fs/src/code.jl:373 =#\u001b[39m\n",
       "    \u001b[90m#= /Users/nathanchiche/.julia/packages/SymbolicUtils/NJ0fs/src/code.jl:374 =#\u001b[39m\n",
       "    \u001b[90m#= /Users/nathanchiche/.julia/packages/SymbolicUtils/NJ0fs/src/code.jl:375 =#\u001b[39m\n",
       "    begin\n",
       "        begin\n",
       "            \u001b[90m#= /Users/nathanchiche/.julia/packages/SymbolicUtils/NJ0fs/src/code.jl:468 =#\u001b[39m\n",
       "            (SymbolicUtils.Code.create_array)(typeof(ˍ₋arg1), nothing, Val{1}(), Val{(6,)}(), 0, (+)(-1, (*)(2, ˍ₋arg1[2])), 1, 0, -1, 0)\n",
       "        end\n",
       "    end\n",
       "end)], [\"forall\", \"forall\", \"forall\", \"forall\", \"exists\", \"exists\"], 6)"
      ]
     },
     "metadata": {},
     "output_type": "display_data"
    }
   ],
   "source": [
    "include(\"polzono_to_symbo.jl\")\n",
    "lek=functionalinclusion_polynomial_zonotopes_to_function(fP,P)\n"
   ]
  },
  {
   "cell_type": "code",
   "execution_count": 260,
   "metadata": {},
   "outputs": [
    {
     "data": {
      "text/plain": [
       "6-element Vector{IntervalArithmetic.Interval{Float64}}:\n",
       "   [0, 0]\n",
       "  [-3, 1]\n",
       "   [1, 1]\n",
       "   [0, 0]\n",
       " [-1, -1]\n",
       "   [0, 0]"
      ]
     },
     "metadata": {},
     "output_type": "display_data"
    }
   ],
   "source": [
    "lek[2][2](input2)"
   ]
  },
  {
   "cell_type": "code",
   "execution_count": 245,
   "metadata": {},
   "outputs": [
    {
     "data": {
      "text/latex": [
       "$$ \\begin{equation}\n",
       "\\left[\n",
       "\\begin{array}{c}\n",
       "var_1 \\\\\n",
       "var_2 \\\\\n",
       "var_3 \\\\\n",
       "var_4 \\\\\n",
       "var_5 \\\\\n",
       "var_6 \\\\\n",
       "\\end{array}\n",
       "\\right]\n",
       "\\end{equation}\n",
       " $$"
      ],
      "text/plain": [
       "6-element Vector{Num}:\n",
       " var[1]\n",
       " var[2]\n",
       " var[3]\n",
       " var[4]\n",
       " var[5]\n",
       " var[6]"
      ]
     },
     "metadata": {},
     "output_type": "display_data"
    }
   ],
   "source": [
    "@variables var[1:6]\n",
    "y=[var...]"
   ]
  },
  {
   "cell_type": "code",
   "execution_count": 251,
   "metadata": {},
   "outputs": [
    {
     "data": {
      "text/plain": [
       "(RuntimeGeneratedFunctions.RuntimeGeneratedFunction{(:ˍ₋arg1,), Symbolics.var\"#_RGF_ModTag\", Symbolics.var\"#_RGF_ModTag\", (0xfe655e11, 0x3d6157f2, 0x1ddbed3a, 0x7abdfac5, 0x5547c898), Expr}(quote\n",
       "    \u001b[90m#= /Users/nathanchiche/.julia/packages/SymbolicUtils/NJ0fs/src/code.jl:373 =#\u001b[39m\n",
       "    \u001b[90m#= /Users/nathanchiche/.julia/packages/SymbolicUtils/NJ0fs/src/code.jl:374 =#\u001b[39m\n",
       "    \u001b[90m#= /Users/nathanchiche/.julia/packages/SymbolicUtils/NJ0fs/src/code.jl:375 =#\u001b[39m\n",
       "    begin\n",
       "        begin\n",
       "            \u001b[90m#= /Users/nathanchiche/.julia/packages/SymbolicUtils/NJ0fs/src/code.jl:468 =#\u001b[39m\n",
       "            (SymbolicUtils.Code.create_array)(typeof(ˍ₋arg1), nothing, Val{1}(), Val{(6,)}(), 0, (+)(-1, (*)(2, ˍ₋arg1[2])), 1, 0, -1, 0)\n",
       "        end\n",
       "    end\n",
       "end), RuntimeGeneratedFunctions.RuntimeGeneratedFunction{(:ˍ₋out, :ˍ₋arg1), Symbolics.var\"#_RGF_ModTag\", Symbolics.var\"#_RGF_ModTag\", (0xdcfd62d1, 0x9bb7d0e8, 0xd348351a, 0x93e4010d, 0x50e1a984), Expr}(quote\n",
       "    \u001b[90m#= /Users/nathanchiche/.julia/packages/SymbolicUtils/NJ0fs/src/code.jl:373 =#\u001b[39m\n",
       "    \u001b[90m#= /Users/nathanchiche/.julia/packages/SymbolicUtils/NJ0fs/src/code.jl:374 =#\u001b[39m\n",
       "    \u001b[90m#= /Users/nathanchiche/.julia/packages/SymbolicUtils/NJ0fs/src/code.jl:375 =#\u001b[39m\n",
       "    begin\n",
       "        begin\n",
       "            \u001b[90m#= /Users/nathanchiche/.julia/packages/Symbolics/BQlmn/src/build_function.jl:519 =#\u001b[39m\n",
       "            \u001b[90m#= /Users/nathanchiche/.julia/packages/SymbolicUtils/NJ0fs/src/code.jl:422 =#\u001b[39m @inbounds begin\n",
       "                    \u001b[90m#= /Users/nathanchiche/.julia/packages/SymbolicUtils/NJ0fs/src/code.jl:418 =#\u001b[39m\n",
       "                    ˍ₋out[1] = 0\n",
       "                    ˍ₋out[2] = (+)(-1, (*)(2, ˍ₋arg1[2]))\n",
       "                    ˍ₋out[3] = 1\n",
       "                    ˍ₋out[4] = 0\n",
       "                    ˍ₋out[5] = -1\n",
       "                    ˍ₋out[6] = 0\n",
       "                    \u001b[90m#= /Users/nathanchiche/.julia/packages/SymbolicUtils/NJ0fs/src/code.jl:420 =#\u001b[39m\n",
       "                    nothing\n",
       "                end\n",
       "        end\n",
       "    end\n",
       "end))"
      ]
     },
     "metadata": {},
     "output_type": "display_data"
    }
   ],
   "source": [
    "lekfunc=build_function(lek[2],[y[j] for j=1:6],expression=Val{false})"
   ]
  },
  {
   "cell_type": "code",
   "execution_count": 256,
   "metadata": {},
   "outputs": [
    {
     "data": {
      "text/plain": [
       "6-element Vector{IntervalArithmetic.Interval{Float64}}:\n",
       "   [0, 0]\n",
       "  [-3, 1]\n",
       "   [1, 1]\n",
       "   [0, 0]\n",
       " [-1, -1]\n",
       "   [0, 0]"
      ]
     },
     "metadata": {},
     "output_type": "display_data"
    }
   ],
   "source": [
    "lekfunc[1](input2)"
   ]
  },
  {
   "cell_type": "code",
   "execution_count": 262,
   "metadata": {},
   "outputs": [
    {
     "data": {
      "text/plain": [
       "6-element Vector{IntervalArithmetic.Interval{Float64}}:\n",
       " [-1, 1]\n",
       " [-1, 1]\n",
       " [-1, 1]\n",
       " [-1, 1]\n",
       " [-1, 1]\n",
       " [-1, 1]"
      ]
     },
     "metadata": {},
     "output_type": "display_data"
    }
   ],
   "source": [
    "@show(input2)"
   ]
  },
  {
   "cell_type": "code",
   "execution_count": 273,
   "metadata": {},
   "outputs": [
    {
     "data": {
      "text/plain": [
       "inclusion_geometrique (generic function with 1 method)"
      ]
     },
     "metadata": {},
     "output_type": "display_data"
    }
   ],
   "source": [
    "include(\"inclusionbenchmark.jl\")"
   ]
  },
  {
   "cell_type": "code",
   "execution_count": 274,
   "metadata": {},
   "outputs": [
    {
     "ename": "ErrorException",
     "evalue": "type Float64 has no field hi",
     "output_type": "error",
     "traceback": [
      "type Float64 has no field hi\n",
      "\n",
      "Stacktrace:\n",
      " [1] getproperty\n",
      "   @ ./Base.jl:37 [inlined]\n",
      " [2] O(range_Jf::Vector{Float64}, i::Int64)\n",
      "   @ Main ~/Documents/julia/polynomial_zonotopes/Polynomial_Zonotopes/testinclusion_robrange.jl:25\n",
      " [3] outer_approx(range_Dg::Vector{Float64}, center::Float64, quantifiers::Vector{String})\n",
      "   @ Main ~/Documents/julia/polynomial_zonotopes/Polynomial_Zonotopes/testinclusion_robrange.jl:39\n",
      " [4] call_multiple_outers_bis(rangelist::Vector{Any}, centers::Vector{Float64}, quantifiers::Vector{String})\n",
      "   @ Main ~/Documents/julia/polynomial_zonotopes/Polynomial_Zonotopes/testinclusion_robrange.jl:100\n",
      " [5] paverobust(f::Vector{Any}, listgradie::Vector{Any}, dim::Int64, nbvars::Int64, epsilon::Float64, quantifiers::Vector{String})\n",
      "   @ Main ~/Documents/julia/polynomial_zonotopes/Polynomial_Zonotopes/testinclusion_robrange.jl:207\n",
      " [6] inclusion_test(FPZ::SimpleSparsePolynomialZonotope{Float64, Vector{Float64}, Matrix{Float64}, Matrix{Int64}}, PZ::SimpleSparsePolynomialZonotope{Float64, Vector{Float64}, Matrix{Float64}, Matrix{Int64}}, epsilon::Float64)\n",
      "   @ Main ~/Documents/julia/polynomial_zonotopes/Polynomial_Zonotopes/testinclusion_robrange.jl:243\n",
      " [7] inclusion_lineaire_fonctionnelle()\n",
      "   @ Main ~/Documents/julia/polynomial_zonotopes/Polynomial_Zonotopes/inclusionbenchmark.jl:25\n",
      " [8] top-level scope\n",
      "   @ ~/Documents/julia/polynomial_zonotopes/Polynomial_Zonotopes/jl_notebook_cell_df34fa98e69747e1a8f8a730347b8e2f_X53sZmlsZQ==.jl:1"
     ]
    }
   ],
   "source": [
    "inclusion_lineaire_fonctionnelle()"
   ]
  },
  {
   "cell_type": "code",
   "execution_count": null,
   "metadata": {},
   "outputs": [],
   "source": []
  }
 ],
 "metadata": {
  "kernelspec": {
   "display_name": "Julia 1.9.0",
   "language": "julia",
   "name": "julia-1.9"
  },
  "language_info": {
   "file_extension": ".jl",
   "mimetype": "application/julia",
   "name": "julia",
   "version": "1.9.0"
  }
 },
 "nbformat": 4,
 "nbformat_minor": 2
}
