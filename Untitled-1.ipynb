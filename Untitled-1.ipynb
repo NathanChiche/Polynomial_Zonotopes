{
 "cells": [
  {
   "cell_type": "code",
   "execution_count": 5,
   "metadata": {},
   "outputs": [
    {
     "data": {
      "text/plain": [
       "mysetdiff (generic function with 1 method)"
      ]
     },
     "metadata": {},
     "output_type": "display_data"
    }
   ],
   "source": [
    "using Combinatorics\n",
    "\n",
    "function mysetdiff(y, x)\n",
    "    res = Vector{eltype(y)}(undef, length(y) - length(x))\n",
    "    i = 1\n",
    "    @inbounds for el in y\n",
    "        el ∈ x && continue\n",
    "        res[i] = el\n",
    "        i += 1\n",
    "    end\n",
    "    res\n",
    "end\n",
    "\n"
   ]
  },
  {
   "cell_type": "code",
   "execution_count": 6,
   "metadata": {},
   "outputs": [
    {
     "data": {
      "text/plain": [
       "quant_and_varsorders (generic function with 1 method)"
      ]
     },
     "metadata": {},
     "output_type": "display_data"
    }
   ],
   "source": [
    "function quant_and_varsorders(n1,n2)\n",
    "    indexbase=collect(1:n1)\n",
    "    nt=n1+n2\n",
    "    index=collect(n1+1:nt)\n",
    "    base=[\"forall\" for j in 1:n1]\n",
    "    res=[]\n",
    "    for i in 1:n2-1\n",
    "        q1=vcat(base,[\"forall\" for j in 1:i],[\"exists\" for j in 1:n2-i])\n",
    "        q2=vcat(base,[\"forall\" for j in 1:n2-i],[\"exists\" for j in 1:i])\n",
    "        @show(q1)\n",
    "        comb=collect(combinations(index,i))\n",
    "        @show(comb)\n",
    "        #diff=setdiff(index,comb)\n",
    "        \n",
    "        for c in comb\n",
    "            @show(c)\n",
    "            diff=setdiff(index,c)\n",
    "            @show(diff)\n",
    "            ordersq1=vcat(indexbase,c,diff)\n",
    "            ordersq2=vcat(indexbase,diff,c)\n",
    "            push!(res,[[q1,ordersq1],[q2,ordersq2]])\n",
    "        end\n",
    "    end\n",
    "    return res\n",
    "end"
   ]
  },
  {
   "cell_type": "code",
   "execution_count": 7,
   "metadata": {},
   "outputs": [
    {
     "name": "stdout",
     "output_type": "stream",
     "text": [
      "q1 = [\"forall\", \"forall\", \"forall\", \"exists\", \"exists\"]\n",
      "comb = [[3], [4], [5]]\n",
      "c = [3]\n",
      "diff = [4, 5]\n",
      "c = [4]\n",
      "diff = [3, 5]\n",
      "c = [5]\n",
      "diff = [3, 4]\n",
      "q1 = [\"forall\", \"forall\", \"forall\", \"forall\", \"exists\"]\n",
      "comb = [[3, 4], [3, 5], [4, 5]]\n",
      "c = [3, 4]\n",
      "diff = [5]\n",
      "c = [3, 5]\n",
      "diff = [4]\n",
      "c = [4, 5]\n",
      "diff = [3]\n"
     ]
    },
    {
     "data": {
      "text/plain": [
       "6-element Vector{Any}:\n",
       " Vector{Vector}[[[\"forall\", \"forall\", \"forall\", \"exists\", \"exists\"], [1, 2, 3, 4, 5]], [[\"forall\", \"forall\", \"forall\", \"forall\", \"exists\"], [1, 2, 4, 5, 3]]]\n",
       " Vector{Vector}[[[\"forall\", \"forall\", \"forall\", \"exists\", \"exists\"], [1, 2, 4, 3, 5]], [[\"forall\", \"forall\", \"forall\", \"forall\", \"exists\"], [1, 2, 3, 5, 4]]]\n",
       " Vector{Vector}[[[\"forall\", \"forall\", \"forall\", \"exists\", \"exists\"], [1, 2, 5, 3, 4]], [[\"forall\", \"forall\", \"forall\", \"forall\", \"exists\"], [1, 2, 3, 4, 5]]]\n",
       " Vector{Vector}[[[\"forall\", \"forall\", \"forall\", \"forall\", \"exists\"], [1, 2, 3, 4, 5]], [[\"forall\", \"forall\", \"forall\", \"exists\", \"exists\"], [1, 2, 5, 3, 4]]]\n",
       " Vector{Vector}[[[\"forall\", \"forall\", \"forall\", \"forall\", \"exists\"], [1, 2, 3, 5, 4]], [[\"forall\", \"forall\", \"forall\", \"exists\", \"exists\"], [1, 2, 4, 3, 5]]]\n",
       " Vector{Vector}[[[\"forall\", \"forall\", \"forall\", \"forall\", \"exists\"], [1, 2, 4, 5, 3]], [[\"forall\", \"forall\", \"forall\", \"exists\", \"exists\"], [1, 2, 3, 4, 5]]]"
      ]
     },
     "metadata": {},
     "output_type": "display_data"
    }
   ],
   "source": [
    "res=quant_and_varsorders(2,3)"
   ]
  },
  {
   "cell_type": "code",
   "execution_count": 8,
   "metadata": {},
   "outputs": [
    {
     "data": {
      "text/plain": [
       "2-element Vector{Vector{Int64}}:\n",
       " [1, 2, 3, 4, 5]\n",
       " [1, 2, 4, 5, 3]"
      ]
     },
     "metadata": {},
     "output_type": "display_data"
    }
   ],
   "source": [
    "collect(res[1][i][2] for i in 1:2)"
   ]
  },
  {
   "cell_type": "code",
   "execution_count": 9,
   "metadata": {},
   "outputs": [
    {
     "data": {
      "text/plain": [
       "2-element Vector{Vector}:\n",
       " [\"forall\", \"forall\", \"forall\", \"exists\", \"exists\"]\n",
       " [1, 2, 3, 4, 5]"
      ]
     },
     "metadata": {},
     "output_type": "display_data"
    }
   ],
   "source": [
    "collect(res[1][1][i] for i in 1:2)"
   ]
  },
  {
   "cell_type": "code",
   "execution_count": 10,
   "metadata": {},
   "outputs": [
    {
     "data": {
      "text/plain": [
       "5-element Vector{Int64}:\n",
       " 1\n",
       " 2\n",
       " 3\n",
       " 4\n",
       " 5"
      ]
     },
     "metadata": {},
     "output_type": "display_data"
    }
   ],
   "source": [
    "res[1][1][2]"
   ]
  },
  {
   "cell_type": "code",
   "execution_count": 11,
   "metadata": {},
   "outputs": [
    {
     "data": {
      "text/plain": [
       "6"
      ]
     },
     "metadata": {},
     "output_type": "display_data"
    }
   ],
   "source": [
    "length(res)"
   ]
  },
  {
   "cell_type": "code",
   "execution_count": 12,
   "metadata": {},
   "outputs": [
    {
     "data": {
      "text/plain": [
       "geometrical_inclusion (generic function with 1 method)"
      ]
     },
     "metadata": {},
     "output_type": "display_data"
    }
   ],
   "source": [
    "include(\"inclusiongeom_robustrange.jl\")"
   ]
  },
  {
   "cell_type": "code",
   "execution_count": 13,
   "metadata": {},
   "outputs": [
    {
     "data": {
      "text/plain": [
       "inclusion_geometrique (generic function with 1 method)"
      ]
     },
     "metadata": {},
     "output_type": "display_data"
    }
   ],
   "source": [
    "using Nemo\n",
    "using LazySets\n",
    "\n",
    "\n",
    "include(\"testinclusion_robrange.jl\")\n",
    "include(\"inclusiongeom_robustrange.jl\")\n",
    "include(\"conversions.jl\")\n",
    "include(\"joins.jl\")\n",
    "include(\"plotsample.jl\")\n",
    "include(\"polynomap.jl\")\n",
    "include(\"matlabmatrix.jl\")\n",
    "include(\"reduction.jl\")\n",
    "\n",
    "function inclusion_geometrique()\n",
    "    R=RealField()\n",
    "    S,(x)=PolynomialRing(R,2)\n",
    "    PZ1=get_SSPZ_from_polynomials([x[1]^2+x[1]*x[2],x[1]*x[2]])\n",
    "    PZ2=get_SSPZ_from_polynomials([2*x[1]+0.5,2*x[2]])\n",
    "    geometrical_inclusion(PZ1,PZ2,0.9)\n",
    "end\n",
    "\n"
   ]
  },
  {
   "cell_type": "code",
   "execution_count": 14,
   "metadata": {},
   "outputs": [
    {
     "data": {
      "text/plain": [
       "geometrical_inclusion (generic function with 1 method)"
      ]
     },
     "metadata": {},
     "output_type": "display_data"
    }
   ],
   "source": [
    "include(\"inclusiongeom_robustrange.jl\")"
   ]
  },
  {
   "cell_type": "code",
   "execution_count": 15,
   "metadata": {},
   "outputs": [],
   "source": []
  },
  {
   "cell_type": "code",
   "execution_count": 16,
   "metadata": {},
   "outputs": [
    {
     "ename": "MethodError",
     "evalue": "MethodError: no method matching similar(::Type{Vector{Num}}, ::Tuple{UnitRange{Int64}})\n\nClosest candidates are:\n  similar(!Matched::AbstractArray{T}, ::Tuple) where T\n   @ Base abstractarray.jl:836\n  similar(::Type{T}, !Matched::Union{Integer, AbstractUnitRange}...) where T<:AbstractArray\n   @ Base abstractarray.jl:880\n  similar(::Type{T}, !Matched::Tuple{Vararg{Int64, N}} where N) where T<:AbstractArray\n   @ Base abstractarray.jl:882\n  ...\n",
     "output_type": "error",
     "traceback": [
      "MethodError: no method matching similar(::Type{Vector{Num}}, ::Tuple{UnitRange{Int64}})\n",
      "\n",
      "Closest candidates are:\n",
      "  similar(!Matched::AbstractArray{T}, ::Tuple) where T\n",
      "   @ Base abstractarray.jl:836\n",
      "  similar(::Type{T}, !Matched::Union{Integer, AbstractUnitRange}...) where T<:AbstractArray\n",
      "   @ Base abstractarray.jl:880\n",
      "  similar(::Type{T}, !Matched::Tuple{Vararg{Int64, N}} where N) where T<:AbstractArray\n",
      "   @ Base abstractarray.jl:882\n",
      "  ...\n",
      "\n",
      "\n",
      "Stacktrace:\n",
      " [1] _array_for(#unused#::Type{Num}, #unused#::Base.HasShape{1}, axs::Tuple{UnitRange{Int64}})\n",
      "   @ Base ./array.jl:671\n",
      " [2] _array_for(#unused#::Type{Num}, itr::Symbolics.Arr{Num, 1}, isz::Base.HasShape{1})\n",
      "   @ Base ./array.jl:674\n",
      " [3] gradient(O::Num, vars::Symbolics.Arr{Num, 1}; simplify::Bool)\n",
      "   @ Symbolics ~/.julia/packages/Symbolics/BQlmn/src/diff.jl:435\n",
      " [4] gradient(O::Num, vars::Symbolics.Arr{Num, 1})\n",
      "   @ Symbolics ~/.julia/packages/Symbolics/BQlmn/src/diff.jl:434\n",
      " [5] top-level scope\n",
      "   @ ~/Documents/julia/polynomial_zonotopes/Polynomial_Zonotopes/jl_notebook_cell_df34fa98e69747e1a8f8a730347b8e2f_X14sZmlsZQ==.jl:7"
     ]
    }
   ],
   "source": [
    "using Symbolics\n",
    "\n",
    "@variables x[1:3]\n",
    "\n",
    "fun = x[1]\n",
    "\n",
    "gradfunx = Symbolics.gradient(fun, x)  # does not work"
   ]
  },
  {
   "cell_type": "code",
   "execution_count": 17,
   "metadata": {},
   "outputs": [
    {
     "data": {
      "text/latex": [
       "$$ \\begin{equation}\n",
       "\\left[\n",
       "\\begin{array}{c}\n",
       "2.1 x_1 \\\\\n",
       "2 x_3 \\\\\n",
       "2 x_2 \\\\\n",
       "\\end{array}\n",
       "\\right]\n",
       "\\end{equation}\n",
       " $$"
      ],
      "text/plain": [
       "3-element Vector{Num}:\n",
       "     2.1x[1]\n",
       " 2x[3]\n",
       " 2x[2]"
      ]
     },
     "metadata": {},
     "output_type": "display_data"
    }
   ],
   "source": [
    "\n",
    "\n",
    "@variables x[1:3]\n",
    "\n",
    "fun = 1.05*x[1]^2+2*x[2]*x[3]\n",
    "y=[x...]\n",
    "\n",
    "gradfuny = Symbolics.gradient(fun, y)  # does work"
   ]
  },
  {
   "cell_type": "code",
   "execution_count": 18,
   "metadata": {},
   "outputs": [
    {
     "data": {
      "text/plain": [
       "3-element Vector{Vector{IntervalArithmetic.Interval{Float64}}}:\n",
       " [[-1, 1], [-1, 1], [-1, 1]]\n",
       " [[-1, 1], [-1, 1], [-1, 1]]\n",
       " [[-1, 1], [-1, 1], [-1, 1]]"
      ]
     },
     "metadata": {},
     "output_type": "display_data"
    }
   ],
   "source": [
    "intervinte=interval(-1..1)\n",
    "input=[inte for i in 1:3]"
   ]
  },
  {
   "cell_type": "code",
   "execution_count": 19,
   "metadata": {},
   "outputs": [
    {
     "data": {
      "text/plain": [
       "RuntimeGeneratedFunction(#=in Symbolics=#, #=using Symbolics=#, :((ˍ₋arg1,)->begin\n",
       "          #= /Users/nathanchiche/.julia/packages/SymbolicUtils/NJ0fs/src/code.jl:373 =#\n",
       "          #= /Users/nathanchiche/.julia/packages/SymbolicUtils/NJ0fs/src/code.jl:374 =#\n",
       "          #= /Users/nathanchiche/.julia/packages/SymbolicUtils/NJ0fs/src/code.jl:375 =#\n",
       "          begin\n",
       "              begin\n",
       "                  #= /Users/nathanchiche/.julia/packages/SymbolicUtils/NJ0fs/src/code.jl:468 =#\n",
       "                  (SymbolicUtils.Code.create_array)(typeof(ˍ₋arg1), nothing, Val{1}(), Val{(3,)}(), (*)(2.1, ˍ₋arg1[1]), (*)(2, ˍ₋arg1[3]), (*)(2, ˍ₋arg1[2]))\n",
       "              end\n",
       "          end\n",
       "      end))"
      ]
     },
     "metadata": {},
     "output_type": "display_data"
    }
   ],
   "source": [
    "mygradfuny=build_function(gradfuny,[y[j] for j in 1:3],expression=Val{false})[1]\n"
   ]
  },
  {
   "cell_type": "code",
   "execution_count": 20,
   "metadata": {},
   "outputs": [
    {
     "data": {
      "text/latex": [
       "$$ \\begin{equation}\n",
       "\\left[\n",
       "\\begin{array}{ccc}\n",
       "2.1 x_1 & 2 x_3 & 2 x_2 \\\\\n",
       "4.2 x_1 & 4 x_3 & 4 x_2 \\\\\n",
       "\\end{array}\n",
       "\\right]\n",
       "\\end{equation}\n",
       " $$"
      ],
      "text/plain": [
       "2×3 Matrix{Num}:\n",
       " 2.1x[1]  2x[3]  2x[2]\n",
       " 4.2x[1]  4x[3]  4x[2]"
      ]
     },
     "metadata": {},
     "output_type": "display_data"
    }
   ],
   "source": [
    "am=[fun,2*fun]\n",
    "jacfun=Symbolics.jacobian(am,x)"
   ]
  },
  {
   "cell_type": "code",
   "execution_count": 21,
   "metadata": {},
   "outputs": [
    {
     "ename": "UndefVarError",
     "evalue": "UndefVarError: `fP` not defined",
     "output_type": "error",
     "traceback": [
      "UndefVarError: `fP` not defined\n",
      "\n",
      "Stacktrace:\n",
      " [1] top-level scope\n",
      "   @ ~/Documents/julia/polynomial_zonotopes/Polynomial_Zonotopes/jl_notebook_cell_df34fa98e69747e1a8f8a730347b8e2f_X22sZmlsZQ==.jl:1"
     ]
    }
   ],
   "source": [
    "geometricalinclusion_polynomial_zonotopes_to_function(fP,P)"
   ]
  },
  {
   "cell_type": "code",
   "execution_count": 27,
   "metadata": {},
   "outputs": [
    {
     "ename": "UndefVarError",
     "evalue": "UndefVarError: `fP` not defined",
     "output_type": "error",
     "traceback": [
      "UndefVarError: `fP` not defined\n",
      "\n",
      "Stacktrace:\n",
      " [1] top-level scope\n",
      "   @ ~/Documents/julia/polynomial_zonotopes/Polynomial_Zonotopes/jl_notebook_cell_df34fa98e69747e1a8f8a730347b8e2f_X31sZmlsZQ==.jl:5"
     ]
    }
   ],
   "source": [
    "R=RealField()\n",
    "S,(x)=PolynomialRing(R,4)\n",
    "PZ=get_SSPZ_from_polynomials([x[1]+x[3],x[2]+x[4]])\n",
    "FPZ=get_SSPZ_from_polynomials([0.8*(x[1]+x[3]),0.9*(x[2]+x[4])])\n",
    "a,b,c,d,e=functionalinclusion_polynomial_zonotopes_to_function(fP,P)\n",
    "e\n"
   ]
  },
  {
   "cell_type": "code",
   "execution_count": 28,
   "metadata": {},
   "outputs": [
    {
     "ename": "UndefVarError",
     "evalue": "UndefVarError: `fP` not defined",
     "output_type": "error",
     "traceback": [
      "UndefVarError: `fP` not defined\n",
      "\n",
      "Stacktrace:\n",
      " [1] top-level scope\n",
      "   @ ~/Documents/julia/polynomial_zonotopes/Polynomial_Zonotopes/jl_notebook_cell_df34fa98e69747e1a8f8a730347b8e2f_X32sZmlsZQ==.jl:1"
     ]
    }
   ],
   "source": [
    "a,b,c,d,e=functionalinclusion_polynomial_zonotopes_to_function(fP,P)\n"
   ]
  },
  {
   "cell_type": "code",
   "execution_count": 30,
   "metadata": {},
   "outputs": [
    {
     "name": "stdout",
     "output_type": "stream",
     "text": [
      "gradfsymbo = Num[2var[1] + 3(var[1]^2) - 1, 0, 1, 1, 0, -1]\n",
      "gradfsymbo = Num[0, 2var[2] - 1, 1, 0, -1, 0]\n",
      "listg = Any[Num[2var[1] + 3(var[1]^2) - 1, 0, 1, 1, 0, -1], Num[0, 2var[2] - 1, 1, 0, -1, 0]]\n"
     ]
    },
    {
     "data": {
      "text/plain": [
       "2-element Vector{Any}:\n",
       " Num[2var[1] + 3(var[1]^2) - 1, 0, 1, 1, 0, -1]\n",
       " Num[0, 2var[2] - 1, 1, 0, -1, 0]"
      ]
     },
     "metadata": {},
     "output_type": "display_data"
    }
   ],
   "source": [
    "include(\"polzono_to_symbo.jl\")\n",
    "R=RealField()\n",
    "S,(x,y,s,t)=PolynomialRing(R,[\"x\",\"y\",\"s\",\"t\"])\n",
    "\n",
    "P=get_SSPZ_from_polynomials([x+t,y+s])\n",
    "fP=get_SSPZ_from_polynomials([x^2+x^3+s+t,y^2+s])\n",
    "a,b,c,d,e=functionalinclusion_polynomial_zonotopes_to_function(fP,P)\n",
    "e"
   ]
  },
  {
   "cell_type": "code",
   "execution_count": 31,
   "metadata": {},
   "outputs": [
    {
     "data": {
      "text/plain": [
       "8-element Vector{Vector{IntervalArithmetic.Interval{Float64}}}:\n",
       " [[-1, 1], [-1, 1], [-1, 1]]\n",
       " [[-1, 1], [-1, 1], [-1, 1]]\n",
       " [[-1, 1], [-1, 1], [-1, 1]]\n",
       " [[-1, 1], [-1, 1], [-1, 1]]\n",
       " [[-1, 1], [-1, 1], [-1, 1]]\n",
       " [[-1, 1], [-1, 1], [-1, 1]]\n",
       " [[-1, 1], [-1, 1], [-1, 1]]\n",
       " [[-1, 1], [-1, 1], [-1, 1]]"
      ]
     },
     "metadata": {},
     "output_type": "display_data"
    }
   ],
   "source": [
    "intervinte=interval(-1..1)\n",
    "input=[inte for i in 1:8]"
   ]
  },
  {
   "cell_type": "code",
   "execution_count": 35,
   "metadata": {},
   "outputs": [
    {
     "data": {
      "text/latex": [
       "$$ \\begin{equation}\n",
       "\\left[\n",
       "\\begin{array}{c}\n",
       "1 + var_3 \\\\\n",
       "0.5 \\\\\n",
       "4 var_3 + var_1 \\\\\n",
       "\\end{array}\n",
       "\\right]\n",
       "\\end{equation}\n",
       " $$"
      ],
      "text/plain": [
       "3-element Vector{Num}:\n",
       "       1 + var[3]\n",
       "                0.5\n",
       " 4var[3] + var[1]"
      ]
     },
     "metadata": {},
     "output_type": "display_data"
    }
   ],
   "source": [
    "using Symbolics\n",
    "using IntervalArithmetic\n",
    "@variables var[1:3]\n",
    "y=[var...]\n",
    "fu=var[1]*(var[3]+1)+1/2*var[2]+2*var[3]^2\n",
    "func=build_function(fu,[var[j] for j=1:3],expression=Val{false})\n",
    "grad=Symbolics.gradient(fu,y) #ici grad est encore symbolique\n",
    "inte=[-1..1 for i in 1:3]\n",
    "gradf=build_function(grad,[var[j] for j=1:3],expression=Val{false}) #ici gradf est une vraie fonction à évaluer\n",
    "typeof(gradf)\n",
    "grad\n",
    "#gradf=build_function(,[var[j] for j=1:3],expression=Val{false})"
   ]
  },
  {
   "cell_type": "code",
   "execution_count": 45,
   "metadata": {},
   "outputs": [
    {
     "data": {
      "text/plain": [
       "Zonotope{Float64, Vector{Float64}, Matrix{Float64}}([0.5, 0.5], [0.25 0.0; 0.0 0.25])"
      ]
     },
     "metadata": {},
     "output_type": "display_data"
    }
   ],
   "source": [
    "Z = Zonotope([0.0, 0.0], [1.0 1.0; 1.0 0.5])\n",
    "Box=Zonotope([0.0, 0.0],[0.25 0.0; 0.0 0.25])\n",
    "Box2=Zonotope([0.25, 0.25],[0.25 0.0; 0.0 0.25])\n",
    "Box3=Zonotope([0.5, 0.5],[0.25 0.0; 0.0 0.25])"
   ]
  },
  {
   "cell_type": "code",
   "execution_count": 46,
   "metadata": {},
   "outputs": [
    {
     "data": {
      "image/png": "[encoded data removed]",
      "image/svg+xml": [
       "<?xml version=\"1.0\" encoding=\"utf-8\"?>\n",
       "<svg xmlns=\"http://www.w3.org/2000/svg\" xmlns:xlink=\"http://www.w3.org/1999/xlink\" width=\"600\" height=\"400\" viewBox=\"0 0 2400 1600\">\n",
       "<defs>\n",
       "  <clipPath id=\"clip630\">\n",
       "    <rect x=\"0\" y=\"0\" width=\"2400\" height=\"1600\"/>\n",
       "  </clipPath>\n",
       "</defs>\n",
       "<path clip-path=\"url(#clip630)\" d=\"M0 1600 L2400 1600 L2400 0 L0 0  Z\" fill=\"#ffffff\" fill-rule=\"evenodd\" fill-opacity=\"1\"/>\n",
       "<defs>\n",
       "  <clipPath id=\"clip631\">\n",
       "    <rect x=\"480\" y=\"0\" width=\"1681\" height=\"1600\"/>\n",
       "  </clipPath>\n",
       "</defs>\n",
       "<path clip-path=\"url(#clip630)\" d=\"M193.936 1486.45 L2352.76 1486.45 L2352.76 47.2441 L193.936 47.2441  Z\" fill=\"#ffffff\" fill-rule=\"evenodd\" fill-opacity=\"1\"/>\n",
       "<defs>\n",
       "  <clipPath id=\"clip632\">\n",
       "    <rect x=\"193\" y=\"47\" width=\"2160\" height=\"1440\"/>\n",
       "  </clipPath>\n",
       "</defs>\n",
       "<polyline clip-path=\"url(#clip632)\" style=\"stroke:#000000; stroke-linecap:round; stroke-linejoin:round; stroke-width:2; stroke-opacity:0.1; fill:none\" points=\"255.035,1486.45 255.035,47.2441 \"/>\n",
       "<polyline clip-path=\"url(#clip632)\" style=\"stroke:#000000; stroke-linecap:round; stroke-linejoin:round; stroke-width:2; stroke-opacity:0.1; fill:none\" points=\"764.19,1486.45 764.19,47.2441 \"/>\n",
       "<polyline clip-path=\"url(#clip632)\" style=\"stroke:#000000; stroke-linecap:round; stroke-linejoin:round; stroke-width:2; stroke-opacity:0.1; fill:none\" points=\"1273.35,1486.45 1273.35,47.2441 \"/>\n",
       "<polyline clip-path=\"url(#clip632)\" style=\"stroke:#000000; stroke-linecap:round; stroke-linejoin:round; stroke-width:2; stroke-opacity:0.1; fill:none\" points=\"1782.5,1486.45 1782.5,47.2441 \"/>\n",
       "<polyline clip-path=\"url(#clip632)\" style=\"stroke:#000000; stroke-linecap:round; stroke-linejoin:round; stroke-width:2; stroke-opacity:0.1; fill:none\" points=\"2291.66,1486.45 2291.66,47.2441 \"/>\n",
       "<polyline clip-path=\"url(#clip630)\" style=\"stroke:#000000; stroke-linecap:round; stroke-linejoin:round; stroke-width:4; stroke-opacity:1; fill:none\" points=\"193.936,1486.45 2352.76,1486.45 \"/>\n",
       "<polyline clip-path=\"url(#clip630)\" style=\"stroke:#000000; stroke-linecap:round; stroke-linejoin:round; stroke-width:4; stroke-opacity:1; fill:none\" points=\"255.035,1486.45 255.035,1467.55 \"/>\n",
       "<polyline clip-path=\"url(#clip630)\" style=\"stroke:#000000; stroke-linecap:round; stroke-linejoin:round; stroke-width:4; stroke-opacity:1; fill:none\" points=\"764.19,1486.45 764.19,1467.55 \"/>\n",
       "<polyline clip-path=\"url(#clip630)\" style=\"stroke:#000000; stroke-linecap:round; stroke-linejoin:round; stroke-width:4; stroke-opacity:1; fill:none\" points=\"1273.35,1486.45 1273.35,1467.55 \"/>\n",
       "<polyline clip-path=\"url(#clip630)\" style=\"stroke:#000000; stroke-linecap:round; stroke-linejoin:round; stroke-width:4; stroke-opacity:1; fill:none\" points=\"1782.5,1486.45 1782.5,1467.55 \"/>\n",
       "<polyline clip-path=\"url(#clip630)\" style=\"stroke:#000000; stroke-linecap:round; stroke-linejoin:round; stroke-width:4; stroke-opacity:1; fill:none\" points=\"2291.66,1486.45 2291.66,1467.55 \"/>\n",
       "<path clip-path=\"url(#clip630)\" d=\"M224.977 1532.02 L254.653 1532.02 L254.653 1535.95 L224.977 1535.95 L224.977 1532.02 Z\" fill=\"#000000\" fill-rule=\"nonzero\" fill-opacity=\"1\" /><path clip-path=\"url(#clip630)\" d=\"M268.773 1544.91 L285.092 1544.91 L285.092 1548.85 L263.148 1548.85 L263.148 1544.91 Q265.81 1542.16 270.393 1537.53 Q275 1532.88 276.18 1531.53 Q278.426 1529.01 279.305 1527.27 Q280.208 1525.51 280.208 1523.82 Q280.208 1521.07 278.264 1519.33 Q276.342 1517.6 273.241 1517.6 Q271.042 1517.6 268.588 1518.36 Q266.157 1519.13 263.38 1520.68 L263.38 1515.95 Q266.204 1514.82 268.657 1514.24 Q271.111 1513.66 273.148 1513.66 Q278.518 1513.66 281.713 1516.35 Q284.907 1519.03 284.907 1523.52 Q284.907 1525.65 284.097 1527.57 Q283.31 1529.47 281.204 1532.07 Q280.625 1532.74 277.523 1535.95 Q274.421 1539.15 268.773 1544.91 Z\" fill=\"#000000\" fill-rule=\"nonzero\" fill-opacity=\"1\" /><path clip-path=\"url(#clip630)\" d=\"M733.947 1532.02 L763.623 1532.02 L763.623 1535.95 L733.947 1535.95 L733.947 1532.02 Z\" fill=\"#000000\" fill-rule=\"nonzero\" fill-opacity=\"1\" /><path clip-path=\"url(#clip630)\" d=\"M774.526 1544.91 L782.165 1544.91 L782.165 1518.55 L773.855 1520.21 L773.855 1515.95 L782.118 1514.29 L786.794 1514.29 L786.794 1544.91 L794.433 1544.91 L794.433 1548.85 L774.526 1548.85 L774.526 1544.91 Z\" fill=\"#000000\" fill-rule=\"nonzero\" fill-opacity=\"1\" /><path clip-path=\"url(#clip630)\" d=\"M1273.35 1517.37 Q1269.73 1517.37 1267.91 1520.93 Q1266.1 1524.47 1266.1 1531.6 Q1266.1 1538.71 1267.91 1542.27 Q1269.73 1545.82 1273.35 1545.82 Q1276.98 1545.82 1278.79 1542.27 Q1280.61 1538.71 1280.61 1531.6 Q1280.61 1524.47 1278.79 1520.93 Q1276.98 1517.37 1273.35 1517.37 M1273.35 1513.66 Q1279.16 1513.66 1282.21 1518.27 Q1285.29 1522.85 1285.29 1531.6 Q1285.29 1540.33 1282.21 1544.94 Q1279.16 1549.52 1273.35 1549.52 Q1267.54 1549.52 1264.46 1544.94 Q1261.4 1540.33 1261.4 1531.6 Q1261.4 1522.85 1264.46 1518.27 Q1267.54 1513.66 1273.35 1513.66 Z\" fill=\"#000000\" fill-rule=\"nonzero\" fill-opacity=\"1\" /><path clip-path=\"url(#clip630)\" d=\"M1772.88 1544.91 L1780.52 1544.91 L1780.52 1518.55 L1772.21 1520.21 L1772.21 1515.95 L1780.48 1514.29 L1785.15 1514.29 L1785.15 1544.91 L1792.79 1544.91 L1792.79 1548.85 L1772.88 1548.85 L1772.88 1544.91 Z\" fill=\"#000000\" fill-rule=\"nonzero\" fill-opacity=\"1\" /><path clip-path=\"url(#clip630)\" d=\"M2286.31 1544.91 L2302.63 1544.91 L2302.63 1548.85 L2280.69 1548.85 L2280.69 1544.91 Q2283.35 1542.16 2287.93 1537.53 Q2292.54 1532.88 2293.72 1531.53 Q2295.96 1529.01 2296.84 1527.27 Q2297.75 1525.51 2297.75 1523.82 Q2297.75 1521.07 2295.8 1519.33 Q2293.88 1517.6 2290.78 1517.6 Q2288.58 1517.6 2286.12 1518.36 Q2283.69 1519.13 2280.92 1520.68 L2280.92 1515.95 Q2283.74 1514.82 2286.19 1514.24 Q2288.65 1513.66 2290.69 1513.66 Q2296.06 1513.66 2299.25 1516.35 Q2302.44 1519.03 2302.44 1523.52 Q2302.44 1525.65 2301.63 1527.57 Q2300.85 1529.47 2298.74 1532.07 Q2298.16 1532.74 2295.06 1535.95 Q2291.96 1539.15 2286.31 1544.91 Z\" fill=\"#000000\" fill-rule=\"nonzero\" fill-opacity=\"1\" /><polyline clip-path=\"url(#clip632)\" style=\"stroke:#000000; stroke-linecap:round; stroke-linejoin:round; stroke-width:2; stroke-opacity:0.1; fill:none\" points=\"193.936,1445.72 2352.76,1445.72 \"/>\n",
       "<polyline clip-path=\"url(#clip632)\" style=\"stroke:#000000; stroke-linecap:round; stroke-linejoin:round; stroke-width:2; stroke-opacity:0.1; fill:none\" points=\"193.936,1219.43 2352.76,1219.43 \"/>\n",
       "<polyline clip-path=\"url(#clip632)\" style=\"stroke:#000000; stroke-linecap:round; stroke-linejoin:round; stroke-width:2; stroke-opacity:0.1; fill:none\" points=\"193.936,993.136 2352.76,993.136 \"/>\n",
       "<polyline clip-path=\"url(#clip632)\" style=\"stroke:#000000; stroke-linecap:round; stroke-linejoin:round; stroke-width:2; stroke-opacity:0.1; fill:none\" points=\"193.936,766.846 2352.76,766.846 \"/>\n",
       "<polyline clip-path=\"url(#clip632)\" style=\"stroke:#000000; stroke-linecap:round; stroke-linejoin:round; stroke-width:2; stroke-opacity:0.1; fill:none\" points=\"193.936,540.556 2352.76,540.556 \"/>\n",
       "<polyline clip-path=\"url(#clip632)\" style=\"stroke:#000000; stroke-linecap:round; stroke-linejoin:round; stroke-width:2; stroke-opacity:0.1; fill:none\" points=\"193.936,314.266 2352.76,314.266 \"/>\n",
       "<polyline clip-path=\"url(#clip632)\" style=\"stroke:#000000; stroke-linecap:round; stroke-linejoin:round; stroke-width:2; stroke-opacity:0.1; fill:none\" points=\"193.936,87.9763 2352.76,87.9763 \"/>\n",
       "<polyline clip-path=\"url(#clip630)\" style=\"stroke:#000000; stroke-linecap:round; stroke-linejoin:round; stroke-width:4; stroke-opacity:1; fill:none\" points=\"193.936,1486.45 193.936,47.2441 \"/>\n",
       "<polyline clip-path=\"url(#clip630)\" style=\"stroke:#000000; stroke-linecap:round; stroke-linejoin:round; stroke-width:4; stroke-opacity:1; fill:none\" points=\"193.936,1445.72 212.834,1445.72 \"/>\n",
       "<polyline clip-path=\"url(#clip630)\" style=\"stroke:#000000; stroke-linecap:round; stroke-linejoin:round; stroke-width:4; stroke-opacity:1; fill:none\" points=\"193.936,1219.43 212.834,1219.43 \"/>\n",
       "<polyline clip-path=\"url(#clip630)\" style=\"stroke:#000000; stroke-linecap:round; stroke-linejoin:round; stroke-width:4; stroke-opacity:1; fill:none\" points=\"193.936,993.136 212.834,993.136 \"/>\n",
       "<polyline clip-path=\"url(#clip630)\" style=\"stroke:#000000; stroke-linecap:round; stroke-linejoin:round; stroke-width:4; stroke-opacity:1; fill:none\" points=\"193.936,766.846 212.834,766.846 \"/>\n",
       "<polyline clip-path=\"url(#clip630)\" style=\"stroke:#000000; stroke-linecap:round; stroke-linejoin:round; stroke-width:4; stroke-opacity:1; fill:none\" points=\"193.936,540.556 212.834,540.556 \"/>\n",
       "<polyline clip-path=\"url(#clip630)\" style=\"stroke:#000000; stroke-linecap:round; stroke-linejoin:round; stroke-width:4; stroke-opacity:1; fill:none\" points=\"193.936,314.266 212.834,314.266 \"/>\n",
       "<polyline clip-path=\"url(#clip630)\" style=\"stroke:#000000; stroke-linecap:round; stroke-linejoin:round; stroke-width:4; stroke-opacity:1; fill:none\" points=\"193.936,87.9763 212.834,87.9763 \"/>\n",
       "<path clip-path=\"url(#clip630)\" d=\"M51.9875 1446.17 L81.6633 1446.17 L81.6633 1450.1 L51.9875 1450.1 L51.9875 1446.17 Z\" fill=\"#000000\" fill-rule=\"nonzero\" fill-opacity=\"1\" /><path clip-path=\"url(#clip630)\" d=\"M92.566 1459.06 L100.205 1459.06 L100.205 1432.69 L91.8947 1434.36 L91.8947 1430.1 L100.159 1428.44 L104.834 1428.44 L104.834 1459.06 L112.473 1459.06 L112.473 1463 L92.566 1463 L92.566 1459.06 Z\" fill=\"#000000\" fill-rule=\"nonzero\" fill-opacity=\"1\" /><path clip-path=\"url(#clip630)\" d=\"M121.918 1457.12 L126.802 1457.12 L126.802 1463 L121.918 1463 L121.918 1457.12 Z\" fill=\"#000000\" fill-rule=\"nonzero\" fill-opacity=\"1\" /><path clip-path=\"url(#clip630)\" d=\"M137.033 1428.44 L155.39 1428.44 L155.39 1432.37 L141.316 1432.37 L141.316 1440.84 Q142.334 1440.5 143.353 1440.33 Q144.371 1440.15 145.39 1440.15 Q151.177 1440.15 154.556 1443.32 Q157.936 1446.49 157.936 1451.91 Q157.936 1457.49 154.464 1460.59 Q150.992 1463.67 144.672 1463.67 Q142.496 1463.67 140.228 1463.3 Q137.982 1462.93 135.575 1462.19 L135.575 1457.49 Q137.658 1458.62 139.881 1459.18 Q142.103 1459.73 144.58 1459.73 Q148.584 1459.73 150.922 1457.63 Q153.26 1455.52 153.26 1451.91 Q153.26 1448.3 150.922 1446.19 Q148.584 1444.08 144.58 1444.08 Q142.705 1444.08 140.83 1444.5 Q138.978 1444.92 137.033 1445.8 L137.033 1428.44 Z\" fill=\"#000000\" fill-rule=\"nonzero\" fill-opacity=\"1\" /><path clip-path=\"url(#clip630)\" d=\"M50.9921 1219.88 L80.6679 1219.88 L80.6679 1223.81 L50.9921 1223.81 L50.9921 1219.88 Z\" fill=\"#000000\" fill-rule=\"nonzero\" fill-opacity=\"1\" /><path clip-path=\"url(#clip630)\" d=\"M91.5706 1232.77 L99.2095 1232.77 L99.2095 1206.41 L90.8993 1208.07 L90.8993 1203.81 L99.1632 1202.15 L103.839 1202.15 L103.839 1232.77 L111.478 1232.77 L111.478 1236.71 L91.5706 1236.71 L91.5706 1232.77 Z\" fill=\"#000000\" fill-rule=\"nonzero\" fill-opacity=\"1\" /><path clip-path=\"url(#clip630)\" d=\"M120.922 1230.83 L125.807 1230.83 L125.807 1236.71 L120.922 1236.71 L120.922 1230.83 Z\" fill=\"#000000\" fill-rule=\"nonzero\" fill-opacity=\"1\" /><path clip-path=\"url(#clip630)\" d=\"M145.992 1205.22 Q142.381 1205.22 140.552 1208.79 Q138.746 1212.33 138.746 1219.46 Q138.746 1226.57 140.552 1230.13 Q142.381 1233.67 145.992 1233.67 Q149.626 1233.67 151.431 1230.13 Q153.26 1226.57 153.26 1219.46 Q153.26 1212.33 151.431 1208.79 Q149.626 1205.22 145.992 1205.22 M145.992 1201.52 Q151.802 1201.52 154.857 1206.13 Q157.936 1210.71 157.936 1219.46 Q157.936 1228.19 154.857 1232.79 Q151.802 1237.38 145.992 1237.38 Q140.181 1237.38 137.103 1232.79 Q134.047 1228.19 134.047 1219.46 Q134.047 1210.71 137.103 1206.13 Q140.181 1201.52 145.992 1201.52 Z\" fill=\"#000000\" fill-rule=\"nonzero\" fill-opacity=\"1\" /><path clip-path=\"url(#clip630)\" d=\"M51.9875 993.587 L81.6633 993.587 L81.6633 997.522 L51.9875 997.522 L51.9875 993.587 Z\" fill=\"#000000\" fill-rule=\"nonzero\" fill-opacity=\"1\" /><path clip-path=\"url(#clip630)\" d=\"M101.756 978.935 Q98.1447 978.935 96.316 982.499 Q94.5104 986.041 94.5104 993.171 Q94.5104 1000.28 96.316 1003.84 Q98.1447 1007.38 101.756 1007.38 Q105.39 1007.38 107.196 1003.84 Q109.024 1000.28 109.024 993.171 Q109.024 986.041 107.196 982.499 Q105.39 978.935 101.756 978.935 M101.756 975.231 Q107.566 975.231 110.621 979.837 Q113.7 984.421 113.7 993.171 Q113.7 1001.9 110.621 1006.5 Q107.566 1011.09 101.756 1011.09 Q95.9456 1011.09 92.8669 1006.5 Q89.8114 1001.9 89.8114 993.171 Q89.8114 984.421 92.8669 979.837 Q95.9456 975.231 101.756 975.231 Z\" fill=\"#000000\" fill-rule=\"nonzero\" fill-opacity=\"1\" /><path clip-path=\"url(#clip630)\" d=\"M121.918 1004.54 L126.802 1004.54 L126.802 1010.42 L121.918 1010.42 L121.918 1004.54 Z\" fill=\"#000000\" fill-rule=\"nonzero\" fill-opacity=\"1\" /><path clip-path=\"url(#clip630)\" d=\"M137.033 975.856 L155.39 975.856 L155.39 979.791 L141.316 979.791 L141.316 988.263 Q142.334 987.916 143.353 987.754 Q144.371 987.569 145.39 987.569 Q151.177 987.569 154.556 990.74 Q157.936 993.911 157.936 999.328 Q157.936 1004.91 154.464 1008.01 Q150.992 1011.09 144.672 1011.09 Q142.496 1011.09 140.228 1010.72 Q137.982 1010.35 135.575 1009.61 L135.575 1004.91 Q137.658 1006.04 139.881 1006.6 Q142.103 1007.15 144.58 1007.15 Q148.584 1007.15 150.922 1005.05 Q153.26 1002.94 153.26 999.328 Q153.26 995.717 150.922 993.61 Q148.584 991.504 144.58 991.504 Q142.705 991.504 140.83 991.921 Q138.978 992.337 137.033 993.217 L137.033 975.856 Z\" fill=\"#000000\" fill-rule=\"nonzero\" fill-opacity=\"1\" /><path clip-path=\"url(#clip630)\" d=\"M100.76 752.645 Q97.1493 752.645 95.3206 756.209 Q93.515 759.751 93.515 766.881 Q93.515 773.987 95.3206 777.552 Q97.1493 781.094 100.76 781.094 Q104.395 781.094 106.2 777.552 Q108.029 773.987 108.029 766.881 Q108.029 759.751 106.2 756.209 Q104.395 752.645 100.76 752.645 M100.76 748.941 Q106.571 748.941 109.626 753.547 Q112.705 758.131 112.705 766.881 Q112.705 775.608 109.626 780.214 Q106.571 784.797 100.76 784.797 Q94.9502 784.797 91.8715 780.214 Q88.816 775.608 88.816 766.881 Q88.816 758.131 91.8715 753.547 Q94.9502 748.941 100.76 748.941 Z\" fill=\"#000000\" fill-rule=\"nonzero\" fill-opacity=\"1\" /><path clip-path=\"url(#clip630)\" d=\"M120.922 778.246 L125.807 778.246 L125.807 784.126 L120.922 784.126 L120.922 778.246 Z\" fill=\"#000000\" fill-rule=\"nonzero\" fill-opacity=\"1\" /><path clip-path=\"url(#clip630)\" d=\"M145.992 752.645 Q142.381 752.645 140.552 756.209 Q138.746 759.751 138.746 766.881 Q138.746 773.987 140.552 777.552 Q142.381 781.094 145.992 781.094 Q149.626 781.094 151.431 777.552 Q153.26 773.987 153.26 766.881 Q153.26 759.751 151.431 756.209 Q149.626 752.645 145.992 752.645 M145.992 748.941 Q151.802 748.941 154.857 753.547 Q157.936 758.131 157.936 766.881 Q157.936 775.608 154.857 780.214 Q151.802 784.797 145.992 784.797 Q140.181 784.797 137.103 780.214 Q134.047 775.608 134.047 766.881 Q134.047 758.131 137.103 753.547 Q140.181 748.941 145.992 748.941 Z\" fill=\"#000000\" fill-rule=\"nonzero\" fill-opacity=\"1\" /><path clip-path=\"url(#clip630)\" d=\"M101.756 526.355 Q98.1447 526.355 96.316 529.92 Q94.5104 533.461 94.5104 540.591 Q94.5104 547.697 96.316 551.262 Q98.1447 554.804 101.756 554.804 Q105.39 554.804 107.196 551.262 Q109.024 547.697 109.024 540.591 Q109.024 533.461 107.196 529.92 Q105.39 526.355 101.756 526.355 M101.756 522.651 Q107.566 522.651 110.621 527.258 Q113.7 531.841 113.7 540.591 Q113.7 549.318 110.621 553.924 Q107.566 558.507 101.756 558.507 Q95.9456 558.507 92.8669 553.924 Q89.8114 549.318 89.8114 540.591 Q89.8114 531.841 92.8669 527.258 Q95.9456 522.651 101.756 522.651 Z\" fill=\"#000000\" fill-rule=\"nonzero\" fill-opacity=\"1\" /><path clip-path=\"url(#clip630)\" d=\"M121.918 551.956 L126.802 551.956 L126.802 557.836 L121.918 557.836 L121.918 551.956 Z\" fill=\"#000000\" fill-rule=\"nonzero\" fill-opacity=\"1\" /><path clip-path=\"url(#clip630)\" d=\"M137.033 523.276 L155.39 523.276 L155.39 527.211 L141.316 527.211 L141.316 535.683 Q142.334 535.336 143.353 535.174 Q144.371 534.989 145.39 534.989 Q151.177 534.989 154.556 538.16 Q157.936 541.332 157.936 546.748 Q157.936 552.327 154.464 555.429 Q150.992 558.507 144.672 558.507 Q142.496 558.507 140.228 558.137 Q137.982 557.767 135.575 557.026 L135.575 552.327 Q137.658 553.461 139.881 554.017 Q142.103 554.572 144.58 554.572 Q148.584 554.572 150.922 552.466 Q153.26 550.359 153.26 546.748 Q153.26 543.137 150.922 541.031 Q148.584 538.924 144.58 538.924 Q142.705 538.924 140.83 539.341 Q138.978 539.757 137.033 540.637 L137.033 523.276 Z\" fill=\"#000000\" fill-rule=\"nonzero\" fill-opacity=\"1\" /><path clip-path=\"url(#clip630)\" d=\"M91.5706 327.611 L99.2095 327.611 L99.2095 301.245 L90.8993 302.912 L90.8993 298.653 L99.1632 296.986 L103.839 296.986 L103.839 327.611 L111.478 327.611 L111.478 331.546 L91.5706 331.546 L91.5706 327.611 Z\" fill=\"#000000\" fill-rule=\"nonzero\" fill-opacity=\"1\" /><path clip-path=\"url(#clip630)\" d=\"M120.922 325.667 L125.807 325.667 L125.807 331.546 L120.922 331.546 L120.922 325.667 Z\" fill=\"#000000\" fill-rule=\"nonzero\" fill-opacity=\"1\" /><path clip-path=\"url(#clip630)\" d=\"M145.992 300.065 Q142.381 300.065 140.552 303.63 Q138.746 307.171 138.746 314.301 Q138.746 321.407 140.552 324.972 Q142.381 328.514 145.992 328.514 Q149.626 328.514 151.431 324.972 Q153.26 321.407 153.26 314.301 Q153.26 307.171 151.431 303.63 Q149.626 300.065 145.992 300.065 M145.992 296.361 Q151.802 296.361 154.857 300.968 Q157.936 305.551 157.936 314.301 Q157.936 323.028 154.857 327.634 Q151.802 332.217 145.992 332.217 Q140.181 332.217 137.103 327.634 Q134.047 323.028 134.047 314.301 Q134.047 305.551 137.103 300.968 Q140.181 296.361 145.992 296.361 Z\" fill=\"#000000\" fill-rule=\"nonzero\" fill-opacity=\"1\" /><path clip-path=\"url(#clip630)\" d=\"M92.566 101.321 L100.205 101.321 L100.205 74.9555 L91.8947 76.6222 L91.8947 72.3629 L100.159 70.6963 L104.834 70.6963 L104.834 101.321 L112.473 101.321 L112.473 105.256 L92.566 105.256 L92.566 101.321 Z\" fill=\"#000000\" fill-rule=\"nonzero\" fill-opacity=\"1\" /><path clip-path=\"url(#clip630)\" d=\"M121.918 99.3767 L126.802 99.3767 L126.802 105.256 L121.918 105.256 L121.918 99.3767 Z\" fill=\"#000000\" fill-rule=\"nonzero\" fill-opacity=\"1\" /><path clip-path=\"url(#clip630)\" d=\"M137.033 70.6963 L155.39 70.6963 L155.39 74.6314 L141.316 74.6314 L141.316 83.1036 Q142.334 82.7564 143.353 82.5944 Q144.371 82.4092 145.39 82.4092 Q151.177 82.4092 154.556 85.5805 Q157.936 88.7517 157.936 94.1684 Q157.936 99.747 154.464 102.849 Q150.992 105.928 144.672 105.928 Q142.496 105.928 140.228 105.557 Q137.982 105.187 135.575 104.446 L135.575 99.747 Q137.658 100.881 139.881 101.437 Q142.103 101.992 144.58 101.992 Q148.584 101.992 150.922 99.8859 Q153.26 97.7795 153.26 94.1684 Q153.26 90.5573 150.922 88.4508 Q148.584 86.3443 144.58 86.3443 Q142.705 86.3443 140.83 86.761 Q138.978 87.1777 137.033 88.0573 L137.033 70.6963 Z\" fill=\"#000000\" fill-rule=\"nonzero\" fill-opacity=\"1\" /><path clip-path=\"url(#clip632)\" d=\"M1273.35 993.136 L2291.66 87.9763 L1273.35 540.556 L255.035 1445.72 L1273.35 993.136 L1273.35 993.136  Z\" fill=\"#009af9\" fill-rule=\"evenodd\" fill-opacity=\"0.5\"/>\n",
       "<polyline clip-path=\"url(#clip632)\" style=\"stroke:#000000; stroke-linecap:round; stroke-linejoin:round; stroke-width:4; stroke-opacity:0.5; fill:none\" points=\"1273.35,993.136 2291.66,87.9763 1273.35,540.556 255.035,1445.72 1273.35,993.136 \"/>\n",
       "<path clip-path=\"url(#clip632)\" d=\"M1400.63 653.701 L1146.06 653.701 L1146.06 879.991 L1400.63 879.991 L1400.63 653.701 L1400.63 653.701  Z\" fill=\"#e26f46\" fill-rule=\"evenodd\" fill-opacity=\"0.5\"/>\n",
       "<polyline clip-path=\"url(#clip632)\" style=\"stroke:#000000; stroke-linecap:round; stroke-linejoin:round; stroke-width:4; stroke-opacity:0.5; fill:none\" points=\"1400.63,653.701 1146.06,653.701 1146.06,879.991 1400.63,879.991 1400.63,653.701 \"/>\n",
       "<path clip-path=\"url(#clip632)\" d=\"M1527.92 540.556 L1273.35 540.556 L1273.35 766.846 L1527.92 766.846 L1527.92 540.556 L1527.92 540.556  Z\" fill=\"#3da44d\" fill-rule=\"evenodd\" fill-opacity=\"0.5\"/>\n",
       "<polyline clip-path=\"url(#clip632)\" style=\"stroke:#000000; stroke-linecap:round; stroke-linejoin:round; stroke-width:4; stroke-opacity:0.5; fill:none\" points=\"1527.92,540.556 1273.35,540.556 1273.35,766.846 1527.92,766.846 1527.92,540.556 \"/>\n",
       "<path clip-path=\"url(#clip632)\" d=\"M1655.21 427.411 L1400.63 427.411 L1400.63 653.701 L1655.21 653.701 L1655.21 427.411 L1655.21 427.411  Z\" fill=\"#c271d2\" fill-rule=\"evenodd\" fill-opacity=\"0.5\"/>\n",
       "<polyline clip-path=\"url(#clip632)\" style=\"stroke:#000000; stroke-linecap:round; stroke-linejoin:round; stroke-width:4; stroke-opacity:0.5; fill:none\" points=\"1655.21,427.411 1400.63,427.411 1400.63,653.701 1655.21,653.701 1655.21,427.411 \"/>\n",
       "</svg>\n"
      ],
      "text/html": [
       "<?xml version=\"1.0\" encoding=\"utf-8\"?>\n",
       "<svg xmlns=\"http://www.w3.org/2000/svg\" xmlns:xlink=\"http://www.w3.org/1999/xlink\" width=\"600\" height=\"400\" viewBox=\"0 0 2400 1600\">\n",
       "<defs>\n",
       "  <clipPath id=\"clip680\">\n",
       "    <rect x=\"0\" y=\"0\" width=\"2400\" height=\"1600\"/>\n",
       "  </clipPath>\n",
       "</defs>\n",
       "<path clip-path=\"url(#clip680)\" d=\"M0 1600 L2400 1600 L2400 0 L0 0  Z\" fill=\"#ffffff\" fill-rule=\"evenodd\" fill-opacity=\"1\"/>\n",
       "<defs>\n",
       "  <clipPath id=\"clip681\">\n",
       "    <rect x=\"480\" y=\"0\" width=\"1681\" height=\"1600\"/>\n",
       "  </clipPath>\n",
       "</defs>\n",
       "<path clip-path=\"url(#clip680)\" d=\"M193.936 1486.45 L2352.76 1486.45 L2352.76 47.2441 L193.936 47.2441  Z\" fill=\"#ffffff\" fill-rule=\"evenodd\" fill-opacity=\"1\"/>\n",
       "<defs>\n",
       "  <clipPath id=\"clip682\">\n",
       "    <rect x=\"193\" y=\"47\" width=\"2160\" height=\"1440\"/>\n",
       "  </clipPath>\n",
       "</defs>\n",
       "<polyline clip-path=\"url(#clip682)\" style=\"stroke:#000000; stroke-linecap:round; stroke-linejoin:round; stroke-width:2; stroke-opacity:0.1; fill:none\" points=\"255.035,1486.45 255.035,47.2441 \"/>\n",
       "<polyline clip-path=\"url(#clip682)\" style=\"stroke:#000000; stroke-linecap:round; stroke-linejoin:round; stroke-width:2; stroke-opacity:0.1; fill:none\" points=\"764.19,1486.45 764.19,47.2441 \"/>\n",
       "<polyline clip-path=\"url(#clip682)\" style=\"stroke:#000000; stroke-linecap:round; stroke-linejoin:round; stroke-width:2; stroke-opacity:0.1; fill:none\" points=\"1273.35,1486.45 1273.35,47.2441 \"/>\n",
       "<polyline clip-path=\"url(#clip682)\" style=\"stroke:#000000; stroke-linecap:round; stroke-linejoin:round; stroke-width:2; stroke-opacity:0.1; fill:none\" points=\"1782.5,1486.45 1782.5,47.2441 \"/>\n",
       "<polyline clip-path=\"url(#clip682)\" style=\"stroke:#000000; stroke-linecap:round; stroke-linejoin:round; stroke-width:2; stroke-opacity:0.1; fill:none\" points=\"2291.66,1486.45 2291.66,47.2441 \"/>\n",
       "<polyline clip-path=\"url(#clip680)\" style=\"stroke:#000000; stroke-linecap:round; stroke-linejoin:round; stroke-width:4; stroke-opacity:1; fill:none\" points=\"193.936,1486.45 2352.76,1486.45 \"/>\n",
       "<polyline clip-path=\"url(#clip680)\" style=\"stroke:#000000; stroke-linecap:round; stroke-linejoin:round; stroke-width:4; stroke-opacity:1; fill:none\" points=\"255.035,1486.45 255.035,1467.55 \"/>\n",
       "<polyline clip-path=\"url(#clip680)\" style=\"stroke:#000000; stroke-linecap:round; stroke-linejoin:round; stroke-width:4; stroke-opacity:1; fill:none\" points=\"764.19,1486.45 764.19,1467.55 \"/>\n",
       "<polyline clip-path=\"url(#clip680)\" style=\"stroke:#000000; stroke-linecap:round; stroke-linejoin:round; stroke-width:4; stroke-opacity:1; fill:none\" points=\"1273.35,1486.45 1273.35,1467.55 \"/>\n",
       "<polyline clip-path=\"url(#clip680)\" style=\"stroke:#000000; stroke-linecap:round; stroke-linejoin:round; stroke-width:4; stroke-opacity:1; fill:none\" points=\"1782.5,1486.45 1782.5,1467.55 \"/>\n",
       "<polyline clip-path=\"url(#clip680)\" style=\"stroke:#000000; stroke-linecap:round; stroke-linejoin:round; stroke-width:4; stroke-opacity:1; fill:none\" points=\"2291.66,1486.45 2291.66,1467.55 \"/>\n",
       "<path clip-path=\"url(#clip680)\" d=\"M224.977 1532.02 L254.653 1532.02 L254.653 1535.95 L224.977 1535.95 L224.977 1532.02 Z\" fill=\"#000000\" fill-rule=\"nonzero\" fill-opacity=\"1\" /><path clip-path=\"url(#clip680)\" d=\"M268.773 1544.91 L285.092 1544.91 L285.092 1548.85 L263.148 1548.85 L263.148 1544.91 Q265.81 1542.16 270.393 1537.53 Q275 1532.88 276.18 1531.53 Q278.426 1529.01 279.305 1527.27 Q280.208 1525.51 280.208 1523.82 Q280.208 1521.07 278.264 1519.33 Q276.342 1517.6 273.241 1517.6 Q271.042 1517.6 268.588 1518.36 Q266.157 1519.13 263.38 1520.68 L263.38 1515.95 Q266.204 1514.82 268.657 1514.24 Q271.111 1513.66 273.148 1513.66 Q278.518 1513.66 281.713 1516.35 Q284.907 1519.03 284.907 1523.52 Q284.907 1525.65 284.097 1527.57 Q283.31 1529.47 281.204 1532.07 Q280.625 1532.74 277.523 1535.95 Q274.421 1539.15 268.773 1544.91 Z\" fill=\"#000000\" fill-rule=\"nonzero\" fill-opacity=\"1\" /><path clip-path=\"url(#clip680)\" d=\"M733.947 1532.02 L763.623 1532.02 L763.623 1535.95 L733.947 1535.95 L733.947 1532.02 Z\" fill=\"#000000\" fill-rule=\"nonzero\" fill-opacity=\"1\" /><path clip-path=\"url(#clip680)\" d=\"M774.526 1544.91 L782.165 1544.91 L782.165 1518.55 L773.855 1520.21 L773.855 1515.95 L782.118 1514.29 L786.794 1514.29 L786.794 1544.91 L794.433 1544.91 L794.433 1548.85 L774.526 1548.85 L774.526 1544.91 Z\" fill=\"#000000\" fill-rule=\"nonzero\" fill-opacity=\"1\" /><path clip-path=\"url(#clip680)\" d=\"M1273.35 1517.37 Q1269.73 1517.37 1267.91 1520.93 Q1266.1 1524.47 1266.1 1531.6 Q1266.1 1538.71 1267.91 1542.27 Q1269.73 1545.82 1273.35 1545.82 Q1276.98 1545.82 1278.79 1542.27 Q1280.61 1538.71 1280.61 1531.6 Q1280.61 1524.47 1278.79 1520.93 Q1276.98 1517.37 1273.35 1517.37 M1273.35 1513.66 Q1279.16 1513.66 1282.21 1518.27 Q1285.29 1522.85 1285.29 1531.6 Q1285.29 1540.33 1282.21 1544.94 Q1279.16 1549.52 1273.35 1549.52 Q1267.54 1549.52 1264.46 1544.94 Q1261.4 1540.33 1261.4 1531.6 Q1261.4 1522.85 1264.46 1518.27 Q1267.54 1513.66 1273.35 1513.66 Z\" fill=\"#000000\" fill-rule=\"nonzero\" fill-opacity=\"1\" /><path clip-path=\"url(#clip680)\" d=\"M1772.88 1544.91 L1780.52 1544.91 L1780.52 1518.55 L1772.21 1520.21 L1772.21 1515.95 L1780.48 1514.29 L1785.15 1514.29 L1785.15 1544.91 L1792.79 1544.91 L1792.79 1548.85 L1772.88 1548.85 L1772.88 1544.91 Z\" fill=\"#000000\" fill-rule=\"nonzero\" fill-opacity=\"1\" /><path clip-path=\"url(#clip680)\" d=\"M2286.31 1544.91 L2302.63 1544.91 L2302.63 1548.85 L2280.69 1548.85 L2280.69 1544.91 Q2283.35 1542.16 2287.93 1537.53 Q2292.54 1532.88 2293.72 1531.53 Q2295.96 1529.01 2296.84 1527.27 Q2297.75 1525.51 2297.75 1523.82 Q2297.75 1521.07 2295.8 1519.33 Q2293.88 1517.6 2290.78 1517.6 Q2288.58 1517.6 2286.12 1518.36 Q2283.69 1519.13 2280.92 1520.68 L2280.92 1515.95 Q2283.74 1514.82 2286.19 1514.24 Q2288.65 1513.66 2290.69 1513.66 Q2296.06 1513.66 2299.25 1516.35 Q2302.44 1519.03 2302.44 1523.52 Q2302.44 1525.65 2301.63 1527.57 Q2300.85 1529.47 2298.74 1532.07 Q2298.16 1532.74 2295.06 1535.95 Q2291.96 1539.15 2286.31 1544.91 Z\" fill=\"#000000\" fill-rule=\"nonzero\" fill-opacity=\"1\" /><polyline clip-path=\"url(#clip682)\" style=\"stroke:#000000; stroke-linecap:round; stroke-linejoin:round; stroke-width:2; stroke-opacity:0.1; fill:none\" points=\"193.936,1445.72 2352.76,1445.72 \"/>\n",
       "<polyline clip-path=\"url(#clip682)\" style=\"stroke:#000000; stroke-linecap:round; stroke-linejoin:round; stroke-width:2; stroke-opacity:0.1; fill:none\" points=\"193.936,1219.43 2352.76,1219.43 \"/>\n",
       "<polyline clip-path=\"url(#clip682)\" style=\"stroke:#000000; stroke-linecap:round; stroke-linejoin:round; stroke-width:2; stroke-opacity:0.1; fill:none\" points=\"193.936,993.136 2352.76,993.136 \"/>\n",
       "<polyline clip-path=\"url(#clip682)\" style=\"stroke:#000000; stroke-linecap:round; stroke-linejoin:round; stroke-width:2; stroke-opacity:0.1; fill:none\" points=\"193.936,766.846 2352.76,766.846 \"/>\n",
       "<polyline clip-path=\"url(#clip682)\" style=\"stroke:#000000; stroke-linecap:round; stroke-linejoin:round; stroke-width:2; stroke-opacity:0.1; fill:none\" points=\"193.936,540.556 2352.76,540.556 \"/>\n",
       "<polyline clip-path=\"url(#clip682)\" style=\"stroke:#000000; stroke-linecap:round; stroke-linejoin:round; stroke-width:2; stroke-opacity:0.1; fill:none\" points=\"193.936,314.266 2352.76,314.266 \"/>\n",
       "<polyline clip-path=\"url(#clip682)\" style=\"stroke:#000000; stroke-linecap:round; stroke-linejoin:round; stroke-width:2; stroke-opacity:0.1; fill:none\" points=\"193.936,87.9763 2352.76,87.9763 \"/>\n",
       "<polyline clip-path=\"url(#clip680)\" style=\"stroke:#000000; stroke-linecap:round; stroke-linejoin:round; stroke-width:4; stroke-opacity:1; fill:none\" points=\"193.936,1486.45 193.936,47.2441 \"/>\n",
       "<polyline clip-path=\"url(#clip680)\" style=\"stroke:#000000; stroke-linecap:round; stroke-linejoin:round; stroke-width:4; stroke-opacity:1; fill:none\" points=\"193.936,1445.72 212.834,1445.72 \"/>\n",
       "<polyline clip-path=\"url(#clip680)\" style=\"stroke:#000000; stroke-linecap:round; stroke-linejoin:round; stroke-width:4; stroke-opacity:1; fill:none\" points=\"193.936,1219.43 212.834,1219.43 \"/>\n",
       "<polyline clip-path=\"url(#clip680)\" style=\"stroke:#000000; stroke-linecap:round; stroke-linejoin:round; stroke-width:4; stroke-opacity:1; fill:none\" points=\"193.936,993.136 212.834,993.136 \"/>\n",
       "<polyline clip-path=\"url(#clip680)\" style=\"stroke:#000000; stroke-linecap:round; stroke-linejoin:round; stroke-width:4; stroke-opacity:1; fill:none\" points=\"193.936,766.846 212.834,766.846 \"/>\n",
       "<polyline clip-path=\"url(#clip680)\" style=\"stroke:#000000; stroke-linecap:round; stroke-linejoin:round; stroke-width:4; stroke-opacity:1; fill:none\" points=\"193.936,540.556 212.834,540.556 \"/>\n",
       "<polyline clip-path=\"url(#clip680)\" style=\"stroke:#000000; stroke-linecap:round; stroke-linejoin:round; stroke-width:4; stroke-opacity:1; fill:none\" points=\"193.936,314.266 212.834,314.266 \"/>\n",
       "<polyline clip-path=\"url(#clip680)\" style=\"stroke:#000000; stroke-linecap:round; stroke-linejoin:round; stroke-width:4; stroke-opacity:1; fill:none\" points=\"193.936,87.9763 212.834,87.9763 \"/>\n",
       "<path clip-path=\"url(#clip680)\" d=\"M51.9875 1446.17 L81.6633 1446.17 L81.6633 1450.1 L51.9875 1450.1 L51.9875 1446.17 Z\" fill=\"#000000\" fill-rule=\"nonzero\" fill-opacity=\"1\" /><path clip-path=\"url(#clip680)\" d=\"M92.566 1459.06 L100.205 1459.06 L100.205 1432.69 L91.8947 1434.36 L91.8947 1430.1 L100.159 1428.44 L104.834 1428.44 L104.834 1459.06 L112.473 1459.06 L112.473 1463 L92.566 1463 L92.566 1459.06 Z\" fill=\"#000000\" fill-rule=\"nonzero\" fill-opacity=\"1\" /><path clip-path=\"url(#clip680)\" d=\"M121.918 1457.12 L126.802 1457.12 L126.802 1463 L121.918 1463 L121.918 1457.12 Z\" fill=\"#000000\" fill-rule=\"nonzero\" fill-opacity=\"1\" /><path clip-path=\"url(#clip680)\" d=\"M137.033 1428.44 L155.39 1428.44 L155.39 1432.37 L141.316 1432.37 L141.316 1440.84 Q142.334 1440.5 143.353 1440.33 Q144.371 1440.15 145.39 1440.15 Q151.177 1440.15 154.556 1443.32 Q157.936 1446.49 157.936 1451.91 Q157.936 1457.49 154.464 1460.59 Q150.992 1463.67 144.672 1463.67 Q142.496 1463.67 140.228 1463.3 Q137.982 1462.93 135.575 1462.19 L135.575 1457.49 Q137.658 1458.62 139.881 1459.18 Q142.103 1459.73 144.58 1459.73 Q148.584 1459.73 150.922 1457.63 Q153.26 1455.52 153.26 1451.91 Q153.26 1448.3 150.922 1446.19 Q148.584 1444.08 144.58 1444.08 Q142.705 1444.08 140.83 1444.5 Q138.978 1444.92 137.033 1445.8 L137.033 1428.44 Z\" fill=\"#000000\" fill-rule=\"nonzero\" fill-opacity=\"1\" /><path clip-path=\"url(#clip680)\" d=\"M50.9921 1219.88 L80.6679 1219.88 L80.6679 1223.81 L50.9921 1223.81 L50.9921 1219.88 Z\" fill=\"#000000\" fill-rule=\"nonzero\" fill-opacity=\"1\" /><path clip-path=\"url(#clip680)\" d=\"M91.5706 1232.77 L99.2095 1232.77 L99.2095 1206.41 L90.8993 1208.07 L90.8993 1203.81 L99.1632 1202.15 L103.839 1202.15 L103.839 1232.77 L111.478 1232.77 L111.478 1236.71 L91.5706 1236.71 L91.5706 1232.77 Z\" fill=\"#000000\" fill-rule=\"nonzero\" fill-opacity=\"1\" /><path clip-path=\"url(#clip680)\" d=\"M120.922 1230.83 L125.807 1230.83 L125.807 1236.71 L120.922 1236.71 L120.922 1230.83 Z\" fill=\"#000000\" fill-rule=\"nonzero\" fill-opacity=\"1\" /><path clip-path=\"url(#clip680)\" d=\"M145.992 1205.22 Q142.381 1205.22 140.552 1208.79 Q138.746 1212.33 138.746 1219.46 Q138.746 1226.57 140.552 1230.13 Q142.381 1233.67 145.992 1233.67 Q149.626 1233.67 151.431 1230.13 Q153.26 1226.57 153.26 1219.46 Q153.26 1212.33 151.431 1208.79 Q149.626 1205.22 145.992 1205.22 M145.992 1201.52 Q151.802 1201.52 154.857 1206.13 Q157.936 1210.71 157.936 1219.46 Q157.936 1228.19 154.857 1232.79 Q151.802 1237.38 145.992 1237.38 Q140.181 1237.38 137.103 1232.79 Q134.047 1228.19 134.047 1219.46 Q134.047 1210.71 137.103 1206.13 Q140.181 1201.52 145.992 1201.52 Z\" fill=\"#000000\" fill-rule=\"nonzero\" fill-opacity=\"1\" /><path clip-path=\"url(#clip680)\" d=\"M51.9875 993.587 L81.6633 993.587 L81.6633 997.522 L51.9875 997.522 L51.9875 993.587 Z\" fill=\"#000000\" fill-rule=\"nonzero\" fill-opacity=\"1\" /><path clip-path=\"url(#clip680)\" d=\"M101.756 978.935 Q98.1447 978.935 96.316 982.499 Q94.5104 986.041 94.5104 993.171 Q94.5104 1000.28 96.316 1003.84 Q98.1447 1007.38 101.756 1007.38 Q105.39 1007.38 107.196 1003.84 Q109.024 1000.28 109.024 993.171 Q109.024 986.041 107.196 982.499 Q105.39 978.935 101.756 978.935 M101.756 975.231 Q107.566 975.231 110.621 979.837 Q113.7 984.421 113.7 993.171 Q113.7 1001.9 110.621 1006.5 Q107.566 1011.09 101.756 1011.09 Q95.9456 1011.09 92.8669 1006.5 Q89.8114 1001.9 89.8114 993.171 Q89.8114 984.421 92.8669 979.837 Q95.9456 975.231 101.756 975.231 Z\" fill=\"#000000\" fill-rule=\"nonzero\" fill-opacity=\"1\" /><path clip-path=\"url(#clip680)\" d=\"M121.918 1004.54 L126.802 1004.54 L126.802 1010.42 L121.918 1010.42 L121.918 1004.54 Z\" fill=\"#000000\" fill-rule=\"nonzero\" fill-opacity=\"1\" /><path clip-path=\"url(#clip680)\" d=\"M137.033 975.856 L155.39 975.856 L155.39 979.791 L141.316 979.791 L141.316 988.263 Q142.334 987.916 143.353 987.754 Q144.371 987.569 145.39 987.569 Q151.177 987.569 154.556 990.74 Q157.936 993.911 157.936 999.328 Q157.936 1004.91 154.464 1008.01 Q150.992 1011.09 144.672 1011.09 Q142.496 1011.09 140.228 1010.72 Q137.982 1010.35 135.575 1009.61 L135.575 1004.91 Q137.658 1006.04 139.881 1006.6 Q142.103 1007.15 144.58 1007.15 Q148.584 1007.15 150.922 1005.05 Q153.26 1002.94 153.26 999.328 Q153.26 995.717 150.922 993.61 Q148.584 991.504 144.58 991.504 Q142.705 991.504 140.83 991.921 Q138.978 992.337 137.033 993.217 L137.033 975.856 Z\" fill=\"#000000\" fill-rule=\"nonzero\" fill-opacity=\"1\" /><path clip-path=\"url(#clip680)\" d=\"M100.76 752.645 Q97.1493 752.645 95.3206 756.209 Q93.515 759.751 93.515 766.881 Q93.515 773.987 95.3206 777.552 Q97.1493 781.094 100.76 781.094 Q104.395 781.094 106.2 777.552 Q108.029 773.987 108.029 766.881 Q108.029 759.751 106.2 756.209 Q104.395 752.645 100.76 752.645 M100.76 748.941 Q106.571 748.941 109.626 753.547 Q112.705 758.131 112.705 766.881 Q112.705 775.608 109.626 780.214 Q106.571 784.797 100.76 784.797 Q94.9502 784.797 91.8715 780.214 Q88.816 775.608 88.816 766.881 Q88.816 758.131 91.8715 753.547 Q94.9502 748.941 100.76 748.941 Z\" fill=\"#000000\" fill-rule=\"nonzero\" fill-opacity=\"1\" /><path clip-path=\"url(#clip680)\" d=\"M120.922 778.246 L125.807 778.246 L125.807 784.126 L120.922 784.126 L120.922 778.246 Z\" fill=\"#000000\" fill-rule=\"nonzero\" fill-opacity=\"1\" /><path clip-path=\"url(#clip680)\" d=\"M145.992 752.645 Q142.381 752.645 140.552 756.209 Q138.746 759.751 138.746 766.881 Q138.746 773.987 140.552 777.552 Q142.381 781.094 145.992 781.094 Q149.626 781.094 151.431 777.552 Q153.26 773.987 153.26 766.881 Q153.26 759.751 151.431 756.209 Q149.626 752.645 145.992 752.645 M145.992 748.941 Q151.802 748.941 154.857 753.547 Q157.936 758.131 157.936 766.881 Q157.936 775.608 154.857 780.214 Q151.802 784.797 145.992 784.797 Q140.181 784.797 137.103 780.214 Q134.047 775.608 134.047 766.881 Q134.047 758.131 137.103 753.547 Q140.181 748.941 145.992 748.941 Z\" fill=\"#000000\" fill-rule=\"nonzero\" fill-opacity=\"1\" /><path clip-path=\"url(#clip680)\" d=\"M101.756 526.355 Q98.1447 526.355 96.316 529.92 Q94.5104 533.461 94.5104 540.591 Q94.5104 547.697 96.316 551.262 Q98.1447 554.804 101.756 554.804 Q105.39 554.804 107.196 551.262 Q109.024 547.697 109.024 540.591 Q109.024 533.461 107.196 529.92 Q105.39 526.355 101.756 526.355 M101.756 522.651 Q107.566 522.651 110.621 527.258 Q113.7 531.841 113.7 540.591 Q113.7 549.318 110.621 553.924 Q107.566 558.507 101.756 558.507 Q95.9456 558.507 92.8669 553.924 Q89.8114 549.318 89.8114 540.591 Q89.8114 531.841 92.8669 527.258 Q95.9456 522.651 101.756 522.651 Z\" fill=\"#000000\" fill-rule=\"nonzero\" fill-opacity=\"1\" /><path clip-path=\"url(#clip680)\" d=\"M121.918 551.956 L126.802 551.956 L126.802 557.836 L121.918 557.836 L121.918 551.956 Z\" fill=\"#000000\" fill-rule=\"nonzero\" fill-opacity=\"1\" /><path clip-path=\"url(#clip680)\" d=\"M137.033 523.276 L155.39 523.276 L155.39 527.211 L141.316 527.211 L141.316 535.683 Q142.334 535.336 143.353 535.174 Q144.371 534.989 145.39 534.989 Q151.177 534.989 154.556 538.16 Q157.936 541.332 157.936 546.748 Q157.936 552.327 154.464 555.429 Q150.992 558.507 144.672 558.507 Q142.496 558.507 140.228 558.137 Q137.982 557.767 135.575 557.026 L135.575 552.327 Q137.658 553.461 139.881 554.017 Q142.103 554.572 144.58 554.572 Q148.584 554.572 150.922 552.466 Q153.26 550.359 153.26 546.748 Q153.26 543.137 150.922 541.031 Q148.584 538.924 144.58 538.924 Q142.705 538.924 140.83 539.341 Q138.978 539.757 137.033 540.637 L137.033 523.276 Z\" fill=\"#000000\" fill-rule=\"nonzero\" fill-opacity=\"1\" /><path clip-path=\"url(#clip680)\" d=\"M91.5706 327.611 L99.2095 327.611 L99.2095 301.245 L90.8993 302.912 L90.8993 298.653 L99.1632 296.986 L103.839 296.986 L103.839 327.611 L111.478 327.611 L111.478 331.546 L91.5706 331.546 L91.5706 327.611 Z\" fill=\"#000000\" fill-rule=\"nonzero\" fill-opacity=\"1\" /><path clip-path=\"url(#clip680)\" d=\"M120.922 325.667 L125.807 325.667 L125.807 331.546 L120.922 331.546 L120.922 325.667 Z\" fill=\"#000000\" fill-rule=\"nonzero\" fill-opacity=\"1\" /><path clip-path=\"url(#clip680)\" d=\"M145.992 300.065 Q142.381 300.065 140.552 303.63 Q138.746 307.171 138.746 314.301 Q138.746 321.407 140.552 324.972 Q142.381 328.514 145.992 328.514 Q149.626 328.514 151.431 324.972 Q153.26 321.407 153.26 314.301 Q153.26 307.171 151.431 303.63 Q149.626 300.065 145.992 300.065 M145.992 296.361 Q151.802 296.361 154.857 300.968 Q157.936 305.551 157.936 314.301 Q157.936 323.028 154.857 327.634 Q151.802 332.217 145.992 332.217 Q140.181 332.217 137.103 327.634 Q134.047 323.028 134.047 314.301 Q134.047 305.551 137.103 300.968 Q140.181 296.361 145.992 296.361 Z\" fill=\"#000000\" fill-rule=\"nonzero\" fill-opacity=\"1\" /><path clip-path=\"url(#clip680)\" d=\"M92.566 101.321 L100.205 101.321 L100.205 74.9555 L91.8947 76.6222 L91.8947 72.3629 L100.159 70.6963 L104.834 70.6963 L104.834 101.321 L112.473 101.321 L112.473 105.256 L92.566 105.256 L92.566 101.321 Z\" fill=\"#000000\" fill-rule=\"nonzero\" fill-opacity=\"1\" /><path clip-path=\"url(#clip680)\" d=\"M121.918 99.3767 L126.802 99.3767 L126.802 105.256 L121.918 105.256 L121.918 99.3767 Z\" fill=\"#000000\" fill-rule=\"nonzero\" fill-opacity=\"1\" /><path clip-path=\"url(#clip680)\" d=\"M137.033 70.6963 L155.39 70.6963 L155.39 74.6314 L141.316 74.6314 L141.316 83.1036 Q142.334 82.7564 143.353 82.5944 Q144.371 82.4092 145.39 82.4092 Q151.177 82.4092 154.556 85.5805 Q157.936 88.7517 157.936 94.1684 Q157.936 99.747 154.464 102.849 Q150.992 105.928 144.672 105.928 Q142.496 105.928 140.228 105.557 Q137.982 105.187 135.575 104.446 L135.575 99.747 Q137.658 100.881 139.881 101.437 Q142.103 101.992 144.58 101.992 Q148.584 101.992 150.922 99.8859 Q153.26 97.7795 153.26 94.1684 Q153.26 90.5573 150.922 88.4508 Q148.584 86.3443 144.58 86.3443 Q142.705 86.3443 140.83 86.761 Q138.978 87.1777 137.033 88.0573 L137.033 70.6963 Z\" fill=\"#000000\" fill-rule=\"nonzero\" fill-opacity=\"1\" /><path clip-path=\"url(#clip682)\" d=\"M1273.35 993.136 L2291.66 87.9763 L1273.35 540.556 L255.035 1445.72 L1273.35 993.136 L1273.35 993.136  Z\" fill=\"#009af9\" fill-rule=\"evenodd\" fill-opacity=\"0.5\"/>\n",
       "<polyline clip-path=\"url(#clip682)\" style=\"stroke:#000000; stroke-linecap:round; stroke-linejoin:round; stroke-width:4; stroke-opacity:0.5; fill:none\" points=\"1273.35,993.136 2291.66,87.9763 1273.35,540.556 255.035,1445.72 1273.35,993.136 \"/>\n",
       "<path clip-path=\"url(#clip682)\" d=\"M1400.63 653.701 L1146.06 653.701 L1146.06 879.991 L1400.63 879.991 L1400.63 653.701 L1400.63 653.701  Z\" fill=\"#e26f46\" fill-rule=\"evenodd\" fill-opacity=\"0.5\"/>\n",
       "<polyline clip-path=\"url(#clip682)\" style=\"stroke:#000000; stroke-linecap:round; stroke-linejoin:round; stroke-width:4; stroke-opacity:0.5; fill:none\" points=\"1400.63,653.701 1146.06,653.701 1146.06,879.991 1400.63,879.991 1400.63,653.701 \"/>\n",
       "<path clip-path=\"url(#clip682)\" d=\"M1527.92 540.556 L1273.35 540.556 L1273.35 766.846 L1527.92 766.846 L1527.92 540.556 L1527.92 540.556  Z\" fill=\"#3da44d\" fill-rule=\"evenodd\" fill-opacity=\"0.5\"/>\n",
       "<polyline clip-path=\"url(#clip682)\" style=\"stroke:#000000; stroke-linecap:round; stroke-linejoin:round; stroke-width:4; stroke-opacity:0.5; fill:none\" points=\"1527.92,540.556 1273.35,540.556 1273.35,766.846 1527.92,766.846 1527.92,540.556 \"/>\n",
       "<path clip-path=\"url(#clip682)\" d=\"M1655.21 427.411 L1400.63 427.411 L1400.63 653.701 L1655.21 653.701 L1655.21 427.411 L1655.21 427.411  Z\" fill=\"#c271d2\" fill-rule=\"evenodd\" fill-opacity=\"0.5\"/>\n",
       "<polyline clip-path=\"url(#clip682)\" style=\"stroke:#000000; stroke-linecap:round; stroke-linejoin:round; stroke-width:4; stroke-opacity:0.5; fill:none\" points=\"1655.21,427.411 1400.63,427.411 1400.63,653.701 1655.21,653.701 1655.21,427.411 \"/>\n",
       "</svg>\n"
      ]
     },
     "metadata": {},
     "output_type": "display_data"
    }
   ],
   "source": [
    "plot([Z,Box,Box2,Box3])"
   ]
  },
  {
   "cell_type": "code",
   "execution_count": 131,
   "metadata": {},
   "outputs": [
    {
     "data": {
      "text/plain": [
       "I (generic function with 1 method)"
      ]
     },
     "metadata": {},
     "output_type": "display_data"
    }
   ],
   "source": [
    "include(\"testinclusion_robrange.jl\")"
   ]
  },
  {
   "cell_type": "code",
   "execution_count": 137,
   "metadata": {},
   "outputs": [
    {
     "name": "stdout",
     "output_type": "stream",
     "text": [
      "range apres calcul sur boite 2d\n",
      "ranges = IntervalArithmetic.Interval{Float64}[[0, 2], [0.5, 0.5], [2, 2]]\n",
      "interval_to_check = IntervalArithmetic.Interval{Float64}[[-1, 1], [-1, 1], [-1, 1]]\n",
      "exists\n",
      "(absrange_Dg[p - i]).lo = 2.0\n",
      "p - i = 3\n",
      "temp = 2.0\n",
      "exists\n",
      "(absrange_Dg[p - i]).lo = 0.5\n",
      "p - i = 2\n",
      "temp = 0.5\n",
      "forall\n",
      "(absrange_Dg[p - i]).hi = 2.0\n",
      "p - i = 1\n",
      "temp = 2.0\n",
      "p - i = 3\n",
      "temp = 2.0\n",
      "p - i = 2\n",
      "temp = 0.5\n",
      "p - i = 1\n",
      "temp = 0.0\n"
     ]
    },
    {
     "data": {
      "text/plain": [
       "[-2.5, 2.5]"
      ]
     },
     "metadata": {},
     "output_type": "display_data"
    }
   ],
   "source": [
    "using Symbolics\n",
    "using IntervalArithmetic\n",
    "@variables var[1:3]\n",
    "y=[var...]\n",
    "fu=1/2*var[2]+2*var[3]+var[1]^2\n",
    "func=build_function(fu,[var[j] for j=1:3],expression=Val{false})\n",
    "grad=Symbolics.gradient(fu,y) #ici grad est encore symbolique\n",
    "inte=[-1..1 for i in 1:3]\n",
    "gradf=build_function(grad,[var[j] for j=1:3],expression=Val{false}) #ici gradf est une vraie fonction à évaluer\n",
    "\n",
    "rdg=compute_ranges(gradf,inte,[\"forall\",\"exists\",\"exists\"],intervals_centers(inte))\n",
    "inn=inner_approx(rdg,0,[\"forall\",\"exists\",\"exists\"],inte)\n",
    "out=outer_approx(rdg,0,[\"forall\",\"exists\",\"exists\"],inte)\n"
   ]
  },
  {
   "cell_type": "code",
   "execution_count": 33,
   "metadata": {},
   "outputs": [
    {
     "ename": "MethodError",
     "evalue": "MethodError: objects of type Tuple{RuntimeGeneratedFunctions.RuntimeGeneratedFunction{(:ˍ₋arg1,), Symbolics.var\"#_RGF_ModTag\", Symbolics.var\"#_RGF_ModTag\", (0x48b9fe30, 0x1b96527e, 0xe313f03e, 0xaf3559c3, 0xb69f26ab), Expr}, RuntimeGeneratedFunctions.RuntimeGeneratedFunction{(:ˍ₋out, :ˍ₋arg1), Symbolics.var\"#_RGF_ModTag\", Symbolics.var\"#_RGF_ModTag\", (0x7f26a2ba, 0xd410a420, 0xa030d4c5, 0x7d0f7b5c, 0x05f59ac6), Expr}} are not callable",
     "output_type": "error",
     "traceback": [
      "MethodError: objects of type Tuple{RuntimeGeneratedFunctions.RuntimeGeneratedFunction{(:ˍ₋arg1,), Symbolics.var\"#_RGF_ModTag\", Symbolics.var\"#_RGF_ModTag\", (0x48b9fe30, 0x1b96527e, 0xe313f03e, 0xaf3559c3, 0xb69f26ab), Expr}, RuntimeGeneratedFunctions.RuntimeGeneratedFunction{(:ˍ₋out, :ˍ₋arg1), Symbolics.var\"#_RGF_ModTag\", Symbolics.var\"#_RGF_ModTag\", (0x7f26a2ba, 0xd410a420, 0xa030d4c5, 0x7d0f7b5c, 0x05f59ac6), Expr}} are not callable\n",
      "\n",
      "Stacktrace:\n",
      " [1] compute_ranges(gradient::Tuple{RuntimeGeneratedFunctions.RuntimeGeneratedFunction{(:ˍ₋arg1,), Symbolics.var\"#_RGF_ModTag\", Symbolics.var\"#_RGF_ModTag\", (0x48b9fe30, 0x1b96527e, 0xe313f03e, 0xaf3559c3, 0xb69f26ab), Expr}, RuntimeGeneratedFunctions.RuntimeGeneratedFunction{(:ˍ₋out, :ˍ₋arg1), Symbolics.var\"#_RGF_ModTag\", Symbolics.var\"#_RGF_ModTag\", (0x7f26a2ba, 0xd410a420, 0xa030d4c5, 0x7d0f7b5c, 0x05f59ac6), Expr}}, intervalbox::Vector{IntervalArithmetic.Interval{Float64}}, quantifiers::Vector{String}, intervalboxcenters::Vector{Float64})\n",
      "   @ Main ~/Documents/julia/polynomial_zonotopes/Polynomial_Zonotopes/testinclusion_robrange.jl:149\n",
      " [2] (::var\"#6463#6466\"{Vector{Tuple{RuntimeGeneratedFunctions.RuntimeGeneratedFunction{(:ˍ₋arg1,), Symbolics.var\"#_RGF_ModTag\", Symbolics.var\"#_RGF_ModTag\", id, Expr} where id, RuntimeGeneratedFunctions.RuntimeGeneratedFunction{(:ˍ₋out, :ˍ₋arg1), Symbolics.var\"#_RGF_ModTag\", Symbolics.var\"#_RGF_ModTag\", id, Expr} where id}}, Vector{String}, Vector{Float64}, Vector{IntervalArithmetic.Interval{Float64}}})(k::Int64)\n",
      "   @ Main ./none:0\n",
      " [3] iterate\n",
      "   @ ./generator.jl:47 [inlined]\n",
      " [4] collect(itr::Base.Generator{UnitRange{Int64}, var\"#6463#6466\"{Vector{Tuple{RuntimeGeneratedFunctions.RuntimeGeneratedFunction{(:ˍ₋arg1,), Symbolics.var\"#_RGF_ModTag\", Symbolics.var\"#_RGF_ModTag\", id, Expr} where id, RuntimeGeneratedFunctions.RuntimeGeneratedFunction{(:ˍ₋out, :ˍ₋arg1), Symbolics.var\"#_RGF_ModTag\", Symbolics.var\"#_RGF_ModTag\", id, Expr} where id}}, Vector{String}, Vector{Float64}, Vector{IntervalArithmetic.Interval{Float64}}}})\n",
      "   @ Base ./array.jl:782\n",
      " [5] paverobust(f::Vector{RuntimeGeneratedFunctions.RuntimeGeneratedFunction{(:ˍ₋arg1,), Symbolics.var\"#_RGF_ModTag\", Symbolics.var\"#_RGF_ModTag\", id, Expr} where id}, listgradie::Vector{Tuple{RuntimeGeneratedFunctions.RuntimeGeneratedFunction{(:ˍ₋arg1,), Symbolics.var\"#_RGF_ModTag\", Symbolics.var\"#_RGF_ModTag\", id, Expr} where id, RuntimeGeneratedFunctions.RuntimeGeneratedFunction{(:ˍ₋out, :ˍ₋arg1), Symbolics.var\"#_RGF_ModTag\", Symbolics.var\"#_RGF_ModTag\", id, Expr} where id}}, dim::Int64, nbvars::Int64, epsilon::Float64, quantifiers::Vector{String})\n",
      "   @ Main ~/Documents/julia/polynomial_zonotopes/Polynomial_Zonotopes/testinclusion_robrange.jl:205\n",
      " [6] top-level scope\n",
      "   @ ~/Documents/julia/polynomial_zonotopes/Polynomial_Zonotopes/jl_notebook_cell_df34fa98e69747e1a8f8a730347b8e2f_X36sZmlsZQ==.jl:16"
     ]
    }
   ],
   "source": [
    "include(\"testinclusion_robrange.jl\")\n",
    "using Symbolics\n",
    "using IntervalArithmetic\n",
    "@variables var[1:3]\n",
    "y=[var...]\n",
    "f1=1/2*var[2]+2*var[3]+var[1]^2\n",
    "f2=1/2*var[2]+2*var[3]+var[1]\n",
    "fu1=build_function(f1,[var[j] for j=1:3],expression=Val{false})\n",
    "fu2=build_function(f2,[var[j] for j=1:3],expression=Val{false})\n",
    "fu=[fu1,fu2]\n",
    "df1=Symbolics.gradient(f1,y)\n",
    "df2=Symbolics.gradient(f2,y)\n",
    "dfu1=build_function(df1,[var[j] for j=1:3],expression=Val{false})\n",
    "dfu2=build_function(df2,[var[j] for j=1:3],expression=Val{false})\n",
    "dfu=[dfu1,dfu2]\n",
    "pav=paverobust(fu,dfu,2,3,1.5,[\"forall\",\"exists\",\"exists\"])"
   ]
  },
  {
   "cell_type": "code",
   "execution_count": 34,
   "metadata": {},
   "outputs": [
    {
     "data": {
      "text/plain": [
       "I (generic function with 1 method)"
      ]
     },
     "metadata": {},
     "output_type": "display_data"
    }
   ],
   "source": [
    "using Nemo\n",
    "using LazySets\n",
    "using Plots\n",
    "using Random\n",
    "using Dates\n",
    "using TimerOutputs\n",
    "using Profile\n",
    "using PProf\n",
    "using ProfileView\n",
    "using RangeEnclosures\n",
    "using IntervalArithmetic\n",
    "using ForwardDiff\n",
    "using IntervalOptimisation\n",
    "using LinearAlgebra\n",
    "using DynamicPolynomials\n",
    "using BernsteinExpansions\n",
    "include(\"conversions.jl\")\n",
    "include(\"joins.jl\")\n",
    "include(\"plotsample.jl\")\n",
    "include(\"polynomap.jl\")\n",
    "include(\"matlabmatrix.jl\")\n",
    "include(\"reduction.jl\")\n",
    "include(\"bernstein.jl\")\n",
    "include(\"testinclusion_robrange.jl\")"
   ]
  },
  {
   "cell_type": "code",
   "execution_count": 37,
   "metadata": {},
   "outputs": [
    {
     "data": {
      "text/plain": [
       "4-element Vector{SimpleSparsePolynomialZonotope{Float64, Vector{Float64}, Matrix{Float64}, Matrix{Int64}}}:\n",
       " SimpleSparsePolynomialZonotope{Float64, Vector{Float64}, Matrix{Float64}, Matrix{Int64}}([0.0, 0.0], [1.0 0.0; 0.0 1.0], [1 0; 0 1])\n",
       " SimpleSparsePolynomialZonotope{Float64, Vector{Float64}, Matrix{Float64}, Matrix{Int64}}([0.0, 0.0], [0.9 0.0; 0.0 0.9], [1 0; 0 1])\n",
       " SimpleSparsePolynomialZonotope{Float64, Vector{Float64}, Matrix{Float64}, Matrix{Int64}}([0.0, 0.0], [0.044999999999999984 0.855 0.0 0.0; 0.0 0.0 0.044999999999999984 0.855], [1 1 0 0; 0 0 1 1; 1 0 0 0; 0 0 1 0])\n",
       " SimpleSparsePolynomialZonotope{Float64, Vector{Float64}, Matrix{Float64}, Matrix{Int64}}([0.0, 0.0], [0.0022499999999999985 0.04274999999999998 … 0.0 0.0; 0.0 0.0 … 0.04275000000000001 0.8122499999999999], [1 1 … 0 0; 0 0 … 1 1; … ; 1 0 … 0 0; 0 0 … 1 0])"
      ]
     },
     "metadata": {},
     "output_type": "display_data"
    }
   ],
   "source": [
    "include(\"testinclusion_robrange.jl\")\n",
    "include(\"inclusionbenchmark.jl\")\n",
    "include(\"main2.jl\")\n",
    "#inclusion_lineaire_fonctionnelle()\n",
    "main3()\n",
    "\n"
   ]
  },
  {
   "cell_type": "code",
   "execution_count": 38,
   "metadata": {},
   "outputs": [
    {
     "ename": "MethodError",
     "evalue": "MethodError: reducing over an empty collection is not allowed; consider supplying `init` to the reducer",
     "output_type": "error",
     "traceback": [
      "MethodError: reducing over an empty collection is not allowed; consider supplying `init` to the reducer\n",
      "\n",
      "Stacktrace:\n",
      "  [1] reduce_empty(op::Base.MappingRF{var\"#6978#6985\"{Symbolics.Arr{Num, 1}, Matrix{Int64}, Int64}, Base.BottomRF{typeof(Base.mul_prod)}}, #unused#::Type{Int64})\n",
      "    @ Base ./reduce.jl:356\n",
      "  [2] reduce_empty_iter\n",
      "    @ ./reduce.jl:379 [inlined]\n",
      "  [3] reduce_empty_iter\n",
      "    @ ./reduce.jl:378 [inlined]\n",
      "  [4] foldl_impl\n",
      "    @ ./reduce.jl:49 [inlined]\n",
      "  [5] mapfoldl_impl\n",
      "    @ ./reduce.jl:44 [inlined]\n",
      "  [6] #mapfoldl#288\n",
      "    @ ./reduce.jl:170 [inlined]\n",
      "  [7] mapfoldl\n",
      "    @ ./reduce.jl:170 [inlined]\n",
      "  [8] #mapreduce#292\n",
      "    @ ./reduce.jl:302 [inlined]\n",
      "  [9] mapreduce\n",
      "    @ ./reduce.jl:302 [inlined]\n",
      " [10] #prod#299\n",
      "    @ ./reduce.jl:615 [inlined]\n",
      " [11] prod\n",
      "    @ ./reduce.jl:615 [inlined]\n",
      " [12] functionalinclusion_polynomial_zonotopes_to_function(fpzonotope::SimpleSparsePolynomialZonotope{Float64, Vector{Float64}, Matrix{Float64}, Matrix{Int64}}, pzonotope::SimpleSparsePolynomialZonotope{Float64, Vector{Float64}, Matrix{Float64}, Matrix{Int64}})\n",
      "    @ Main ~/Documents/julia/polynomial_zonotopes/Polynomial_Zonotopes/polzono_to_symbo.jl:72\n",
      " [13] inclusion_test(FPZ::SimpleSparsePolynomialZonotope{Float64, Vector{Float64}, Matrix{Float64}, Matrix{Int64}}, PZ::SimpleSparsePolynomialZonotope{Float64, Vector{Float64}, Matrix{Float64}, Matrix{Int64}}, epsilon::Float64)\n",
      "    @ Main ~/Documents/julia/polynomial_zonotopes/Polynomial_Zonotopes/testinclusion_robrange.jl:239\n",
      " [14] inclusion_lineaire_fonctionnelle()\n",
      "    @ Main ~/Documents/julia/polynomial_zonotopes/Polynomial_Zonotopes/inclusionbenchmark.jl:25\n",
      " [15] top-level scope\n",
      "    @ ~/Documents/julia/polynomial_zonotopes/Polynomial_Zonotopes/jl_notebook_cell_df34fa98e69747e1a8f8a730347b8e2f_X43sZmlsZQ==.jl:1"
     ]
    }
   ],
   "source": [
    "inclusion_lineaire_fonctionnelle()"
   ]
  },
  {
   "cell_type": "code",
   "execution_count": null,
   "metadata": {},
   "outputs": [],
   "source": [
    "R=RealField()\n",
    "S,(x,y)=PolynomialRing(R,[\"x\",\"y\"])\n",
    "f1=-1/4()\n",
    "f2=0.5208*x + 0.712*y"
   ]
  }
 ],
 "metadata": {
  "kernelspec": {
   "display_name": "Julia 1.9.0",
   "language": "julia",
   "name": "julia-1.9"
  },
  "language_info": {
   "file_extension": ".jl",
   "mimetype": "application/julia",
   "name": "julia",
   "version": "1.9.0"
  }
 },
 "nbformat": 4,
 "nbformat_minor": 2
}
