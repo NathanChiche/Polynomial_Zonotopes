{
 "cells": [
  {
   "cell_type": "code",
   "execution_count": 3,
   "metadata": {},
   "outputs": [
    {
     "data": {
      "text/plain": [
       "mysetdiff (generic function with 1 method)"
      ]
     },
     "metadata": {},
     "output_type": "display_data"
    }
   ],
   "source": [
    "using Combinatorics\n",
    "\n",
    "function mysetdiff(y, x)\n",
    "    res = Vector{eltype(y)}(undef, length(y) - length(x))\n",
    "    i = 1\n",
    "    @inbounds for el in y\n",
    "        el ∈ x && continue\n",
    "        res[i] = el\n",
    "        i += 1\n",
    "    end\n",
    "    res\n",
    "end\n",
    "\n"
   ]
  },
  {
   "cell_type": "code",
   "execution_count": 6,
   "metadata": {},
   "outputs": [
    {
     "data": {
      "text/plain": [
       "quant_and_varsorders (generic function with 1 method)"
      ]
     },
     "metadata": {},
     "output_type": "display_data"
    }
   ],
   "source": [
    "function quant_and_varsorders(n1,n2)\n",
    "    indexbase=collect(1:n1)\n",
    "    nt=n1+n2\n",
    "    index=collect(n1+1:nt)\n",
    "    base=[\"forall\" for j in 1:n1]\n",
    "    res=[]\n",
    "    for i in 1:n2-1\n",
    "        q1=vcat(base,[\"forall\" for j in 1:i],[\"exists\" for j in 1:n2-i])\n",
    "        q2=vcat(base,[\"forall\" for j in 1:n2-i],[\"exists\" for j in 1:i])\n",
    "        @show(q1)\n",
    "        comb=collect(combinations(index,i))\n",
    "        @show(comb)\n",
    "        #diff=setdiff(index,comb)\n",
    "        \n",
    "        for c in comb\n",
    "            @show(c)\n",
    "            diff=setdiff(index,c)\n",
    "            @show(diff)\n",
    "            ordersq1=vcat(indexbase,c,diff)\n",
    "            ordersq2=vcat(indexbase,diff,c)\n",
    "            push!(res,[[q1,ordersq1],[q2,ordersq2]])\n",
    "        end\n",
    "    end\n",
    "    return res\n",
    "end"
   ]
  },
  {
   "cell_type": "code",
   "execution_count": 8,
   "metadata": {},
   "outputs": [
    {
     "name": "stdout",
     "output_type": "stream",
     "text": [
      "q1 = [\"forall\", \"forall\", \"forall\", \"exists\", \"exists\"]\n",
      "comb = [[3], [4], [5]]\n",
      "c = [3]\n",
      "diff = [4, 5]\n",
      "c = [4]\n",
      "diff = [3, 5]\n",
      "c = [5]\n",
      "diff = [3, 4]\n",
      "q1 = [\"forall\", \"forall\", \"forall\", \"forall\", \"exists\"]\n",
      "comb = [[3, 4], [3, 5], [4, 5]]\n",
      "c = [3, 4]\n",
      "diff = [5]\n",
      "c = [3, 5]\n",
      "diff = [4]\n",
      "c = [4, 5]\n",
      "diff = [3]\n"
     ]
    },
    {
     "data": {
      "text/plain": [
       "6-element Vector{Any}:\n",
       " Vector{Vector}[[[\"forall\", \"forall\", \"forall\", \"exists\", \"exists\"], [1, 2, 3, 4, 5]], [[\"forall\", \"forall\", \"forall\", \"forall\", \"exists\"], [1, 2, 4, 5, 3]]]\n",
       " Vector{Vector}[[[\"forall\", \"forall\", \"forall\", \"exists\", \"exists\"], [1, 2, 4, 3, 5]], [[\"forall\", \"forall\", \"forall\", \"forall\", \"exists\"], [1, 2, 3, 5, 4]]]\n",
       " Vector{Vector}[[[\"forall\", \"forall\", \"forall\", \"exists\", \"exists\"], [1, 2, 5, 3, 4]], [[\"forall\", \"forall\", \"forall\", \"forall\", \"exists\"], [1, 2, 3, 4, 5]]]\n",
       " Vector{Vector}[[[\"forall\", \"forall\", \"forall\", \"forall\", \"exists\"], [1, 2, 3, 4, 5]], [[\"forall\", \"forall\", \"forall\", \"exists\", \"exists\"], [1, 2, 5, 3, 4]]]\n",
       " Vector{Vector}[[[\"forall\", \"forall\", \"forall\", \"forall\", \"exists\"], [1, 2, 3, 5, 4]], [[\"forall\", \"forall\", \"forall\", \"exists\", \"exists\"], [1, 2, 4, 3, 5]]]\n",
       " Vector{Vector}[[[\"forall\", \"forall\", \"forall\", \"forall\", \"exists\"], [1, 2, 4, 5, 3]], [[\"forall\", \"forall\", \"forall\", \"exists\", \"exists\"], [1, 2, 3, 4, 5]]]"
      ]
     },
     "metadata": {},
     "output_type": "display_data"
    }
   ],
   "source": [
    "res=quant_and_varsorders(2,3)"
   ]
  },
  {
   "cell_type": "code",
   "execution_count": 23,
   "metadata": {},
   "outputs": [
    {
     "data": {
      "text/plain": [
       "2-element Vector{Vector{Int64}}:\n",
       " [1, 2, 3, 4, 5]\n",
       " [1, 2, 4, 5, 3]"
      ]
     },
     "metadata": {},
     "output_type": "display_data"
    }
   ],
   "source": [
    "collect(res[1][i][2] for i in 1:2)"
   ]
  },
  {
   "cell_type": "code",
   "execution_count": 21,
   "metadata": {},
   "outputs": [
    {
     "data": {
      "text/plain": [
       "2-element Vector{Vector}:\n",
       " [\"forall\", \"forall\", \"forall\", \"exists\", \"exists\"]\n",
       " [1, 2, 3, 4, 5]"
      ]
     },
     "metadata": {},
     "output_type": "display_data"
    }
   ],
   "source": [
    "collect(res[1][1][i] for i in 1:2)"
   ]
  },
  {
   "cell_type": "code",
   "execution_count": 12,
   "metadata": {},
   "outputs": [
    {
     "data": {
      "text/plain": [
       "5-element Vector{Int64}:\n",
       " 1\n",
       " 2\n",
       " 3\n",
       " 4\n",
       " 5"
      ]
     },
     "metadata": {},
     "output_type": "display_data"
    }
   ],
   "source": [
    "res[1][1][2]"
   ]
  },
  {
   "cell_type": "code",
   "execution_count": 13,
   "metadata": {},
   "outputs": [
    {
     "data": {
      "text/plain": [
       "6"
      ]
     },
     "metadata": {},
     "output_type": "display_data"
    }
   ],
   "source": [
    "length(res)"
   ]
  },
  {
   "cell_type": "code",
   "execution_count": 24,
   "metadata": {},
   "outputs": [
    {
     "data": {
      "text/latex": [
       "$$ \\begin{equation}\n",
       "\\left[\n",
       "\\begin{array}{c}\n",
       "\\frac{4 a x e^{\\frac{ - 2 \\left( x^{2} + y^{2} \\right)}{b^{2} \\left( 1 + \\left( \\frac{z}{c} \\right)^{2} \\right)}}}{\\left( 1 + \\left( \\frac{z}{c} \\right)^{2} \\right)^{2} b^{2}} \\\\\n",
       "\\frac{4 a y e^{\\frac{ - 2 \\left( x^{2} + y^{2} \\right)}{b^{2} \\left( 1 + \\left( \\frac{z}{c} \\right)^{2} \\right)}}}{\\left( 1 + \\left( \\frac{z}{c} \\right)^{2} \\right)^{2} b^{2}} \\\\\n",
       "a \\left( \\frac{ - 2 z \\frac{ - e^{\\frac{ - 2 \\left( x^{2} + y^{2} \\right)}{b^{2} \\left( 1 + \\left( \\frac{z}{c} \\right)^{2} \\right)}}}{\\left( 1 + \\left( \\frac{z}{c} \\right)^{2} \\right)^{2}}}{c^{2}} + \\frac{2 b^{2} z \\frac{ - 2 \\left( x^{2} + y^{2} \\right)}{\\left( 1 + \\left( \\frac{z}{c} \\right)^{2} \\right)^{2} b^{4}} e^{\\frac{ - 2 \\left( x^{2} + y^{2} \\right)}{b^{2} \\left( 1 + \\left( \\frac{z}{c} \\right)^{2} \\right)}}}{c^{2} \\left( 1 + \\left( \\frac{z}{c} \\right)^{2} \\right)} \\right) \\\\\n",
       "\\end{array}\n",
       "\\right]\n",
       "\\end{equation}\n",
       " $$"
      ],
      "text/plain": [
       "3-element Vector{Num}:\n",
       "      (4a*x*exp((-2(x^2 + y^2)) / ((b^2)*(1 + (z / c)^2)))) / ((b^2)*((1 + (z / c)^2)^2))\n",
       "      (4a*y*exp((-2(x^2 + y^2)) / ((b^2)*(1 + (z / c)^2)))) / ((b^2)*((1 + (z / c)^2)^2))\n",
       " a*((-2z*((-exp((-2(x^2 + y^2)) / ((b^2)*(1 + (z / c)^2)))) / ((1 + (z / c)^2)^2))) / (c^2) + (2z*(b^2)*((-2(x^2 + y^2)) / ((b^4)*((1 + (z / c)^2)^2)))*exp((-2(x^2 + y^2)) / ((b^2)*(1 + (z / c)^2)))) / ((c^2)*(1 + (z / c)^2)))"
      ]
     },
     "metadata": {},
     "output_type": "display_data"
    }
   ],
   "source": [
    "include(\"inclusiongeom_robustrange.jl\")"
   ]
  },
  {
   "cell_type": "code",
   "execution_count": 65,
   "metadata": {},
   "outputs": [
    {
     "data": {
      "text/plain": [
       "inclusion_geometrique (generic function with 1 method)"
      ]
     },
     "metadata": {},
     "output_type": "display_data"
    }
   ],
   "source": [
    "using Nemo\n",
    "using LazySets\n",
    "\n",
    "\n",
    "include(\"testinclusion_robrange.jl\")\n",
    "include(\"inclusiongeom_robustrange.jl\")\n",
    "include(\"conversions.jl\")\n",
    "include(\"joins.jl\")\n",
    "include(\"plotsample.jl\")\n",
    "include(\"polynomap.jl\")\n",
    "include(\"matlabmatrix.jl\")\n",
    "include(\"reduction.jl\")\n",
    "\n",
    "function inclusion_geometrique()\n",
    "    R=RealField()\n",
    "    S,(x)=PolynomialRing(R,2)\n",
    "    PZ1=get_SSPZ_from_polynomials([x[1]^2+x[1]*x[2],x[1]*x[2]])\n",
    "    PZ2=get_SSPZ_from_polynomials([2*x[1]+0.5,2*x[2]])\n",
    "    geometrical_inclusion(PZ1,PZ2,0.9)\n",
    "end\n",
    "\n"
   ]
  },
  {
   "cell_type": "code",
   "execution_count": 80,
   "metadata": {},
   "outputs": [
    {
     "data": {
      "text/plain": [
       "geometrical_inclusion (generic function with 1 method)"
      ]
     },
     "metadata": {},
     "output_type": "display_data"
    }
   ],
   "source": [
    "include(\"inclusiongeom_robustrange.jl\")"
   ]
  },
  {
   "cell_type": "code",
   "execution_count": 81,
   "metadata": {},
   "outputs": [
    {
     "name": "stdout",
     "output_type": "stream",
     "text": [
      "n_vars1 = 2\n",
      "n_vars2 = 2\n",
      "symbolic_expr = Any[var[1]^2 + var[1]*var[2] - 0.5 - 2.0var[3], var[1]*var[2] - 2.0var[4]]\n",
      "vectinner = \"false\"\n",
      "vectinner = \"false\"\n",
      "vectinner = \"false\"\n",
      "vectinner = \"false\"\n",
      "vectinner = \"false\"\n",
      "vectinner = \"false\"\n",
      "vectinner = \"false\"\n",
      "vectinner = \"false\"\n",
      "vectinner = \"false\"\n",
      "vectinner = \"false\"\n",
      "vectinner = \"false\"\n",
      "vectinner = \"false\"\n",
      "vectinner = \"false\"\n",
      "vectinner = \"false\"\n",
      "vectinner = \"false\"\n",
      "vectinner = \"false\"\n",
      "vectinner = \"false\"\n",
      "vectinner = \"false\"\n",
      "vectinner = \"false\"\n",
      "vectinner = \"false\"\n",
      "vectinner = \"false\"\n",
      "vectinner = \"false\"\n",
      "vectinner = \"false\"\n",
      "vectinner = \"false\"\n",
      "vectinner = \"false\"\n",
      "vectinner = \"false\"\n",
      "vectinner = \"false\"\n",
      "vectinner = \"false\"\n",
      "vectinner = \"false\"\n",
      "vectinner = \"false\"\n"
     ]
    },
    {
     "data": {
      "text/plain": [
       "false"
      ]
     },
     "metadata": {},
     "output_type": "display_data"
    }
   ],
   "source": [
    "inclusion_geometrique()"
   ]
  },
  {
   "cell_type": "code",
   "execution_count": 45,
   "metadata": {},
   "outputs": [
    {
     "data": {
      "text/plain": [
       "false"
      ]
     },
     "metadata": {},
     "output_type": "display_data"
    }
   ],
   "source": []
  },
  {
   "cell_type": "code",
   "execution_count": 60,
   "metadata": {},
   "outputs": [
    {
     "data": {
      "text/plain": [
       "4-element Vector{Int64}:\n",
       "  1\n",
       "  2\n",
       " 35\n",
       " 10"
      ]
     },
     "metadata": {},
     "output_type": "display_data"
    }
   ],
   "source": [
    "push!([1,2,35],10)"
   ]
  },
  {
   "cell_type": "code",
   "execution_count": 82,
   "metadata": {},
   "outputs": [
    {
     "ename": "MethodError",
     "evalue": "MethodError: no method matching similar(::Type{Vector{Num}}, ::Tuple{UnitRange{Int64}})\n\nClosest candidates are:\n  similar(!Matched::AbstractArray{T}, ::Tuple) where T\n   @ Base abstractarray.jl:836\n  similar(::Type{T}, !Matched::Union{Integer, AbstractUnitRange}...) where T<:AbstractArray\n   @ Base abstractarray.jl:880\n  similar(::Type{T}, !Matched::Tuple{Vararg{Int64, N}} where N) where T<:AbstractArray\n   @ Base abstractarray.jl:882\n  ...\n",
     "output_type": "error",
     "traceback": [
      "MethodError: no method matching similar(::Type{Vector{Num}}, ::Tuple{UnitRange{Int64}})\n",
      "\n",
      "Closest candidates are:\n",
      "  similar(!Matched::AbstractArray{T}, ::Tuple) where T\n",
      "   @ Base abstractarray.jl:836\n",
      "  similar(::Type{T}, !Matched::Union{Integer, AbstractUnitRange}...) where T<:AbstractArray\n",
      "   @ Base abstractarray.jl:880\n",
      "  similar(::Type{T}, !Matched::Tuple{Vararg{Int64, N}} where N) where T<:AbstractArray\n",
      "   @ Base abstractarray.jl:882\n",
      "  ...\n",
      "\n",
      "\n",
      "Stacktrace:\n",
      " [1] _array_for(#unused#::Type{Num}, #unused#::Base.HasShape{1}, axs::Tuple{UnitRange{Int64}})\n",
      "   @ Base ./array.jl:671\n",
      " [2] _array_for(#unused#::Type{Num}, itr::Symbolics.Arr{Num, 1}, isz::Base.HasShape{1})\n",
      "   @ Base ./array.jl:674\n",
      " [3] gradient(O::Num, vars::Symbolics.Arr{Num, 1}; simplify::Bool)\n",
      "   @ Symbolics ~/.julia/packages/Symbolics/BQlmn/src/diff.jl:435\n",
      " [4] gradient(O::Num, vars::Symbolics.Arr{Num, 1})\n",
      "   @ Symbolics ~/.julia/packages/Symbolics/BQlmn/src/diff.jl:434\n",
      " [5] top-level scope\n",
      "   @ ~/Documents/julia/polynomial_zonotopes/Polynomial_Zonotopes/jl_notebook_cell_df34fa98e69747e1a8f8a730347b8e2f_X20sZmlsZQ==.jl:7"
     ]
    }
   ],
   "source": [
    "using Symbolics\n",
    "\n",
    "@variables x[1:3]\n",
    "\n",
    "fun = x[1]\n",
    "\n",
    "gradfunx = Symbolics.gradient(fun, x)  # does not work"
   ]
  },
  {
   "cell_type": "code",
   "execution_count": 88,
   "metadata": {},
   "outputs": [
    {
     "data": {
      "text/latex": [
       "$$ \\begin{equation}\n",
       "\\left[\n",
       "\\begin{array}{c}\n",
       "2.1 x_1 \\\\\n",
       "2 x_3 \\\\\n",
       "2 x_2 \\\\\n",
       "\\end{array}\n",
       "\\right]\n",
       "\\end{equation}\n",
       " $$"
      ],
      "text/plain": [
       "3-element Vector{Num}:\n",
       "     2.1x[1]\n",
       " 2x[3]\n",
       " 2x[2]"
      ]
     },
     "metadata": {},
     "output_type": "display_data"
    }
   ],
   "source": [
    "\n",
    "\n",
    "@variables x[1:3]\n",
    "\n",
    "fun = 1.05*x[1]^2+2*x[2]*x[3]\n",
    "y=[x...]\n",
    "\n",
    "gradfuny = Symbolics.gradient(fun, y)  # does not work"
   ]
  },
  {
   "cell_type": "code",
   "execution_count": 89,
   "metadata": {},
   "outputs": [
    {
     "data": {
      "text/plain": [
       "3-element Vector{IntervalArithmetic.Interval{Float64}}:\n",
       " [-1, 1]\n",
       " [-1, 1]\n",
       " [-1, 1]"
      ]
     },
     "metadata": {},
     "output_type": "display_data"
    }
   ],
   "source": [
    "intervinte=interval(-1..1)\n",
    "input=[inte for i in 1:3]"
   ]
  },
  {
   "cell_type": "code",
   "execution_count": 101,
   "metadata": {},
   "outputs": [
    {
     "ename": "BoundsError",
     "evalue": "BoundsError: attempt to access Tuple{Vector{IntervalArithmetic.Interval{Float64}}} at index [2]",
     "output_type": "error",
     "traceback": [
      "BoundsError: attempt to access Tuple{Vector{IntervalArithmetic.Interval{Float64}}} at index [2]\n",
      "\n",
      "Stacktrace:\n",
      " [1] getindex(t::Tuple, i::Int64)\n",
      "   @ Base ./tuple.jl:29\n",
      " [2] macro expansion\n",
      "   @ ~/.julia/packages/RuntimeGeneratedFunctions/Yo8zx/src/RuntimeGeneratedFunctions.jl:162 [inlined]\n",
      " [3] macro expansion\n",
      "   @ ./none:0 [inlined]\n",
      " [4] generated_callfunc\n",
      "   @ ./none:0 [inlined]\n",
      " [5] (::RuntimeGeneratedFunctions.RuntimeGeneratedFunction{(:ˍ₋out, :ˍ₋arg1), Symbolics.var\"#_RGF_ModTag\", Symbolics.var\"#_RGF_ModTag\", (0xcf359390, 0xd240b05f, 0xf8d23243, 0xe871ebbd, 0xe6da9dd0), Expr})(args::Vector{IntervalArithmetic.Interval{Float64}})\n",
      "   @ RuntimeGeneratedFunctions ~/.julia/packages/RuntimeGeneratedFunctions/Yo8zx/src/RuntimeGeneratedFunctions.jl:150\n",
      " [6] top-level scope\n",
      "   @ ~/Documents/julia/polynomial_zonotopes/Polynomial_Zonotopes/jl_notebook_cell_df34fa98e69747e1a8f8a730347b8e2f_X23sZmlsZQ==.jl:2"
     ]
    }
   ],
   "source": [
    "mygradfuny=build_function(gradfuny,[y[j] for j=1:3],expression=Val{false})[1]\n",
    "mygradfuny(input)"
   ]
  },
  {
   "cell_type": "code",
   "execution_count": 94,
   "metadata": {},
   "outputs": [
    {
     "data": {
      "text/latex": [
       "$$ \\begin{equation}\n",
       "\\left[\n",
       "\\begin{array}{ccc}\n",
       "2.1 x_1 & 2 x_3 & 2 x_2 \\\\\n",
       "4.2 x_1 & 4 x_3 & 4 x_2 \\\\\n",
       "\\end{array}\n",
       "\\right]\n",
       "\\end{equation}\n",
       " $$"
      ],
      "text/plain": [
       "2×3 Matrix{Num}:\n",
       " 2.1x[1]  2x[3]  2x[2]\n",
       " 4.2x[1]  4x[3]  4x[2]"
      ]
     },
     "metadata": {},
     "output_type": "display_data"
    }
   ],
   "source": [
    "am=[fun,2*fun]\n",
    "jacfun=Symbolics.jacobian(am,x)"
   ]
  },
  {
   "cell_type": "code",
   "execution_count": 96,
   "metadata": {},
   "outputs": [
    {
     "data": {
      "text/latex": [
       "$$ \\begin{equation}\n",
       "4.2 x_1\n",
       "\\end{equation}\n",
       " $$"
      ],
      "text/plain": [
       "4.2x[1]"
      ]
     },
     "metadata": {},
     "output_type": "display_data"
    }
   ],
   "source": [
    "jacfun[2]"
   ]
  },
  {
   "cell_type": "code",
   "execution_count": null,
   "metadata": {},
   "outputs": [],
   "source": []
  }
 ],
 "metadata": {
  "kernelspec": {
   "display_name": "Julia 1.9.0",
   "language": "julia",
   "name": "julia-1.9"
  },
  "language_info": {
   "file_extension": ".jl",
   "mimetype": "application/julia",
   "name": "julia",
   "version": "1.9.0"
  }
 },
 "nbformat": 4,
 "nbformat_minor": 2
}
